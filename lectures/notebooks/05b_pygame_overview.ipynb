{
 "cells": [
  {
   "cell_type": "markdown",
   "metadata": {
    "slideshow": {
     "slide_type": "slide"
    }
   },
   "source": [
    "   # CIS 1051 - Temple Rome Spring 2023"
   ]
  },
  {
   "cell_type": "markdown",
   "metadata": {
    "slideshow": {
     "slide_type": "-"
    }
   },
   "source": [
    "## Intro to Problem solving and \n",
    "## Programming in Python"
   ]
  },
  {
   "cell_type": "markdown",
   "metadata": {
    "slideshow": {
     "slide_type": "-"
    }
   },
   "source": [
    "![LOGO](img/temple-logo.png)"
   ]
  },
  {
   "cell_type": "markdown",
   "metadata": {
    "slideshow": {
     "slide_type": "subslide"
    }
   },
   "source": [
    "![LOGO](img/temple-logo.png)"
   ]
  },
  {
   "cell_type": "markdown",
   "metadata": {
    "slideshow": {
     "slide_type": "-"
    }
   },
   "source": [
    "### Overview of `pygame` & SDP"
   ]
  },
  {
   "cell_type": "markdown",
   "metadata": {
    "slideshow": {
     "slide_type": "-"
    }
   },
   "source": [
    "Prof. Andrea Gallegati\n",
    "\n",
    "( [tuj81353@temple.edu](tuj81353@temple.edu) )"
   ]
  },
  {
   "cell_type": "markdown",
   "metadata": {
    "slideshow": {
     "slide_type": "slide"
    }
   },
   "source": [
    "## ... an overview of `pygame`"
   ]
  },
  {
   "cell_type": "markdown",
   "metadata": {
    "slideshow": {
     "slide_type": "-"
    }
   },
   "source": [
    "How to use `pygame` to make games with graphics, animations, user input, sound."
   ]
  },
  {
   "cell_type": "markdown",
   "metadata": {
    "slideshow": {
     "slide_type": "-"
    }
   },
   "source": [
    "This class will make use of some **terms** and **concepts** that have not been yet defined/introduced.\n",
    "\n",
    "Take them as abstract entities, as long as they wont't be covered in details!"
   ]
  },
  {
   "cell_type": "markdown",
   "metadata": {
    "slideshow": {
     "slide_type": "subslide"
    }
   },
   "source": [
    "The following slides are taken from an amazing book! https://nostarch.com/inventwithpython"
   ]
  },
  {
   "cell_type": "markdown",
   "metadata": {
    "collapsed": true,
    "slideshow": {
     "slide_type": "-"
    }
   },
   "source": [
    "<img src=\"img/invent.png\" style=\"margin:auto\" width=\"500\">"
   ]
  },
  {
   "cell_type": "markdown",
   "metadata": {
    "slideshow": {
     "slide_type": "subslide"
    }
   },
   "source": [
    "### Install  `pygame`"
   ]
  },
  {
   "cell_type": "markdown",
   "metadata": {
    "slideshow": {
     "slide_type": "-"
    }
   },
   "source": [
    "you can use any packet manager, e.g.\n",
    "\n",
    "```\n",
    ">>> pip install pygame\n",
    "```"
   ]
  },
  {
   "cell_type": "markdown",
   "metadata": {
    "slideshow": {
     "slide_type": "fragment"
    }
   },
   "source": [
    "and check it, entering in the interactive shell:\n",
    "\n",
    "```\n",
    ">>> import pygame\n",
    "\n",
    "```"
   ]
  },
  {
   "cell_type": "markdown",
   "metadata": {
    "slideshow": {
     "slide_type": "-"
    }
   },
   "source": [
    "... if no `ImportError` appears, it installed correctly."
   ]
  },
  {
   "cell_type": "markdown",
   "metadata": {
    "slideshow": {
     "slide_type": "subslide"
    }
   },
   "source": [
    "### `pygame` I/O"
   ]
  },
  {
   "cell_type": "markdown",
   "metadata": {
    "slideshow": {
     "slide_type": "-"
    }
   },
   "source": [
    "`pygame` module does not work very well in interactive mode. Better to write programs using an Integrated Development Environment (aka **IDE**), such as Visual Studio Code and its **Dockerized** version."
   ]
  },
  {
   "cell_type": "markdown",
   "metadata": {
    "slideshow": {
     "slide_type": "fragment"
    }
   },
   "source": [
    "`pygame` programs don’t use the `print()` or `input()` functions, instead\n",
    "- it displays output by drawing graphics and text in a separate **window**\n",
    "- input comes from the keyboard and the mouse through **events**"
   ]
  },
  {
   "cell_type": "markdown",
   "metadata": {
    "slideshow": {
     "slide_type": "subslide"
    }
   },
   "source": [
    "### `import pygame`"
   ]
  },
  {
   "cell_type": "markdown",
   "metadata": {
    "slideshow": {
     "slide_type": "-"
    }
   },
   "source": [
    "First, import the `pygame` module to call its functions and several other modules &ndash; on the same line &ndash; by separating them with commas."
   ]
  },
  {
   "cell_type": "markdown",
   "metadata": {
    "slideshow": {
     "slide_type": "-"
    }
   },
   "source": [
    "```\n",
    "import pygame, sys\n",
    "from pygame.locals import *\n",
    "```"
   ]
  },
  {
   "cell_type": "markdown",
   "metadata": {
    "slideshow": {
     "slide_type": "fragment"
    }
   },
   "source": [
    "Then, import the `pygame.locals` module that contains many constant variables to use with pygame, such as \n",
    "- `QUIT`, which helps you quit the program\n",
    "- `K_ESCAPE`, which represents the `ESC` key."
   ]
  },
  {
   "cell_type": "markdown",
   "metadata": {
    "slideshow": {
     "slide_type": "subslide"
    }
   },
   "source": [
    "using the following syntax \n",
    "```\n",
    "from <a_module_name> import *\n",
    "```\n",
    "rather than\n",
    "```\n",
    "import <a_module_name>\n",
    "```\n",
    "lets you use the `<a_module_name>` module without having to type its name in front of its methods, constants, or anything else you call from the module.\n",
    "\n",
    "Sometimes, it’s better to use the full function name so you know which module the function is in, e.g. `sys.exit()`"
   ]
  },
  {
   "cell_type": "markdown",
   "metadata": {
    "slideshow": {
     "slide_type": "subslide"
    }
   },
   "source": [
    "### initialize `pygame`"
   ]
  },
  {
   "cell_type": "markdown",
   "metadata": {
    "slideshow": {
     "slide_type": "-"
    }
   },
   "source": [
    "All pygame programs must call pygame.init() **after importing** the pygame module, but **before calling** any other pygame function."
   ]
  },
  {
   "cell_type": "markdown",
   "metadata": {
    "slideshow": {
     "slide_type": "-"
    }
   },
   "source": [
    "```\n",
    "pygame.init()\n",
    "```"
   ]
  },
  {
   "cell_type": "markdown",
   "metadata": {
    "slideshow": {
     "slide_type": "fragment"
    }
   },
   "source": [
    "\n",
    "\n",
    "<p style=\"text-align: center;\">... so it’s ready to use. You don’t need to know what init() does; just remember to call it before using any other pygame functions.</p>"
   ]
  },
  {
   "cell_type": "markdown",
   "metadata": {
    "slideshow": {
     "slide_type": "slide"
    }
   },
   "source": [
    "### setup the GUI"
   ]
  },
  {
   "cell_type": "markdown",
   "metadata": {
    "slideshow": {
     "slide_type": "-"
    }
   },
   "source": [
    "To prepare a graphical user interface (aka **GUI**) window calls the `set_mode()` **method** in the `pygame.display` module."
   ]
  },
  {
   "cell_type": "markdown",
   "metadata": {
    "slideshow": {
     "slide_type": "fragment"
    }
   },
   "source": [
    "```\n",
    "windowSize = (500, 400)\n",
    "windowSurface = pygame.display.set_mode(windowSize)\n",
    "```"
   ]
  },
  {
   "cell_type": "markdown",
   "metadata": {
    "slideshow": {
     "slide_type": "-"
    }
   },
   "source": [
    "<p style=\"text-align: center;\"> (The display module is a <strong>module</strong> inside the pygame <strong>module</strong>. Even the pygame module has its own modules!)</p>"
   ]
  },
  {
   "cell_type": "markdown",
   "metadata": {
    "slideshow": {
     "slide_type": "subslide"
    }
   },
   "source": [
    "This helps set up a window for pygame to run in. This window uses a **coordinate system**, that is organized in **pixels**.\n",
    "\n",
    "A pixel is the tiniest dot on your computer screen and it can light up in any color. "
   ]
  },
  {
   "cell_type": "markdown",
   "metadata": {
    "slideshow": {
     "slide_type": "fragment"
    }
   },
   "source": [
    "All the pixels on your screen work together to display the pictures you see. We’ll create a window 500 pixels wide and 400 pixels tall by using a **tuple**.\n",
    "\n",
    "There are several parameters to pass to the `pygame.display.set_mode()` method: the mandatory one is a tuple of two integers for the width and height of the window, in pixels."
   ]
  },
  {
   "cell_type": "markdown",
   "metadata": {
    "slideshow": {
     "slide_type": "subslide"
    }
   },
   "source": [
    "Then we can set a title, with this function that change the name on the window:\n",
    "\n",
    "The `set_caption()` method just sets the window’s caption, that is in the top left of the window."
   ]
  },
  {
   "cell_type": "markdown",
   "metadata": {
    "slideshow": {
     "slide_type": "-"
    }
   },
   "source": [
    "```\n",
    "pygame.display.set_caption('Hello world!')\n",
    "```"
   ]
  },
  {
   "cell_type": "markdown",
   "metadata": {
    "slideshow": {
     "slide_type": "subslide"
    }
   },
   "source": [
    "The `set_mode()` function in the `pygame.display` module returns a `pygame.Surface` **object** (we’ll call Surface objects for short).\n",
    "\n",
    "The Surface object represents the window."
   ]
  },
  {
   "cell_type": "markdown",
   "metadata": {
    "slideshow": {
     "slide_type": "fragment"
    }
   },
   "source": [
    "For now, an **object** is just another name for a value of a data type that has **methods**, for example: `strings` have data (the string itself) and methods (e.g.`lower()` and `split()`). Variables store references to objects just as they store **references** for other types."
   ]
  },
  {
   "cell_type": "markdown",
   "metadata": {
    "slideshow": {
     "slide_type": "subslide"
    }
   },
   "source": [
    "Inside the `pygame` module there are, for example, the `font` and `surface` modules.\n",
    "\n",
    "Inside those modules are the `Font` and `Surface` data types. "
   ]
  },
  {
   "cell_type": "markdown",
   "metadata": {
    "slideshow": {
     "slide_type": "fragment"
    }
   },
   "source": [
    "The pygame programmers began the modules names with a **lowercase** letter and the data types with an **uppercase** letter to make it easier to distinguish the data types and the modules. This is a good example of why **naming conventions** can turn usefull when you want to share your code with others."
   ]
  },
  {
   "cell_type": "markdown",
   "metadata": {
    "slideshow": {
     "slide_type": "slide"
    }
   },
   "source": [
    "### setup color variables"
   ]
  },
  {
   "cell_type": "markdown",
   "metadata": {
    "slideshow": {
     "slide_type": "subslide"
    }
   },
   "source": [
    "There are three primary colors of light for pixels: red, green, and blue. By combining different amounts of these three colors you can form any other color. \n",
    "\n",
    "In pygame, colors are represented by **tuples** of three integers (aka **RGB** color codes).\n",
    "\n",
    "Not to rewrite a tuple every time we need it, let's make constants to hold that values (colors)."
   ]
  },
  {
   "cell_type": "markdown",
   "metadata": {
    "slideshow": {
     "slide_type": "fragment"
    }
   },
   "source": [
    "```\n",
    "BLACK = (  0,   0,   0)\n",
    "WHITE = (255, 255, 255)\n",
    "RED   = (255,   0,   0)\n",
    "GREEN = (  0, 255,   0)\n",
    "BLUE  = (  0,   0, 255)\n",
    "```"
   ]
  },
  {
   "cell_type": "markdown",
   "metadata": {
    "slideshow": {
     "slide_type": "fragment"
    }
   },
   "source": [
    "You can mix the amount of red, green, and blue to get any shade of any color!"
   ]
  },
  {
   "cell_type": "markdown",
   "metadata": {
    "slideshow": {
     "slide_type": "slide"
    }
   },
   "source": [
    "### the Surface Object\n"
   ]
  },
  {
   "cell_type": "markdown",
   "metadata": {
    "slideshow": {
     "slide_type": "-"
    }
   },
   "source": [
    "We want to fill the entire surface stored in `windowSurface` with the color black, as we did within our snake game.\n",
    "\n",
    "The `fill()` function will completely cover the surface with the color you pass as the parameter."
   ]
  },
  {
   "cell_type": "markdown",
   "metadata": {
    "slideshow": {
     "slide_type": "fragment"
    }
   },
   "source": [
    "```\n",
    "windowSurface.fill(BLACK)\n",
    "```"
   ]
  },
  {
   "cell_type": "markdown",
   "metadata": {
    "slideshow": {
     "slide_type": "subslide"
    }
   },
   "source": [
    "Note, the window won’t change when you call the `fill()` method or any other drawing function: these just change the Surface object.\n",
    "\n",
    "`pygame.display.update()` function will **render** it to the screen."
   ]
  },
  {
   "cell_type": "markdown",
   "metadata": {
    "slideshow": {
     "slide_type": "fragment"
    }
   },
   "source": [
    "Modifying the Surface object in the computer’s memory is much faster than modifying the image on the screen.\n",
    "\n",
    "Better (more efficient) to **render** it once all the other methods were called on the Surface object."
   ]
  },
  {
   "cell_type": "markdown",
   "metadata": {
    "slideshow": {
     "slide_type": "subslide"
    }
   },
   "source": [
    "### `pygame`'s drawing functions"
   ]
  },
  {
   "cell_type": "markdown",
   "metadata": {
    "slideshow": {
     "slide_type": "-"
    }
   },
   "source": [
    "Similarly to the `turtle` module, even `pygame` has its own functions to draw shapes and lines. \n",
    "\n",
    "Here, each shape has its own function, and you can combine these shapes into different pictures for your graphical game."
   ]
  },
  {
   "cell_type": "markdown",
   "metadata": {
    "slideshow": {
     "slide_type": "subslide"
    }
   },
   "source": [
    "Draws any polygon shape (a multisided shape with straight lines sides). To draw circles and ellipses, for example, there are other functions."
   ]
  },
  {
   "cell_type": "markdown",
   "metadata": {
    "slideshow": {
     "slide_type": "-"
    }
   },
   "source": [
    "```\n",
    "pygame.draw.polygon(windowSurface, GREEN, \n",
    "                    ((146, 0), (291, 106),\n",
    "                    (236, 277), (56, 277), (0, 106)))\n",
    "```"
   ]
  },
  {
   "cell_type": "markdown",
   "metadata": {
    "slideshow": {
     "slide_type": "fragment"
    }
   },
   "source": [
    "- The Surface object to draw the polygon on.\n",
    "- The color of the polygon.\n",
    "- A **tuple of tuples** for the coordinates of the points to draw in order. Last point, automatically connects to the first.\n",
    "- The width of the polygon lines (optional, without it the polygon is filled in)."
   ]
  },
  {
   "cell_type": "markdown",
   "metadata": {
    "slideshow": {
     "slide_type": "subslide"
    }
   },
   "source": [
    "Draws couple lines from one point on the screen to another point."
   ]
  },
  {
   "cell_type": "markdown",
   "metadata": {
    "slideshow": {
     "slide_type": "-"
    }
   },
   "source": [
    "```\n",
    "pygame.draw.line(windowSurface, BLUE, (60, 60), (120, 60), 4)\n",
    "pygame.draw.line(windowSurface, BLUE, (120, 60), (60, 120))\n",
    "```"
   ]
  },
  {
   "cell_type": "markdown",
   "metadata": {
    "slideshow": {
     "slide_type": "fragment"
    }
   },
   "source": [
    "- The Surface object to draw the line on.\n",
    "- The color of the line.\n",
    "- Two **tuples** for the line end-points coordinates.\n",
    "- The width ofthe line in pixels (optional)."
   ]
  },
  {
   "cell_type": "markdown",
   "metadata": {
    "slideshow": {
     "slide_type": "subslide"
    }
   },
   "source": [
    "Draws a circle."
   ]
  },
  {
   "cell_type": "markdown",
   "metadata": {
    "slideshow": {
     "slide_type": "-"
    }
   },
   "source": [
    "```\n",
    "pygame.draw.circle(windowSurface, BLUE, \n",
    "                   (300, 50), 20, 0)\n",
    "```"
   ]
  },
  {
   "cell_type": "markdown",
   "metadata": {
    "slideshow": {
     "slide_type": "fragment"
    }
   },
   "source": [
    "- The Surface object to draw the circle on.\n",
    "- The color of the circle.\n",
    "- A **tuple** for the coordinates of the circle's center.\n",
    "- The radius (i.e. size) of the circle.\n",
    "- The line width in pixels (optional, if `0` the circle is filled in)."
   ]
  },
  {
   "cell_type": "markdown",
   "metadata": {
    "slideshow": {
     "slide_type": "subslide"
    }
   },
   "source": [
    "Draws an ellipse, which is like a squished circle. Thus, the two functions are similar."
   ]
  },
  {
   "cell_type": "markdown",
   "metadata": {
    "slideshow": {
     "slide_type": "-"
    }
   },
   "source": [
    "```\n",
    " pygame.draw.ellipse(windowSurface, RED, (300, 250, 40, 80), 1)\n",
    " ```"
   ]
  },
  {
   "cell_type": "markdown",
   "metadata": {
    "slideshow": {
     "slide_type": "fragment"
    }
   },
   "source": [
    "- The Surface object to draw the ellipse on.\n",
    "- The color of the ellipse.\n",
    "- A **tuple** for the coordinates of the circle's center.\n",
    "- A tuple of four integers for the top-left corner coordinates, the width and height of the `Rect` **object** containing the ellipse.\n",
    "- The ellipse width in pixels (optional, if `0` the ellipse is filled in)."
   ]
  },
  {
   "cell_type": "markdown",
   "metadata": {
    "slideshow": {
     "slide_type": "subslide"
    }
   },
   "source": [
    "Draws a rectangle."
   ]
  },
  {
   "cell_type": "markdown",
   "metadata": {
    "slideshow": {
     "slide_type": "-"
    }
   },
   "source": [
    "```\n",
    "pygame.draw.rect(windowSurface, RED, \n",
    "     (textRect.left - 20,  textRect.top - 20, \n",
    "      textRect.width + 40, textRect.height + 40)) \n",
    "```"
   ]
  },
  {
   "cell_type": "markdown",
   "metadata": {
    "slideshow": {
     "slide_type": "fragment"
    }
   },
   "source": [
    "- The Surface object to draw the rectangle on.\n",
    "- The color of the rectangle.\n",
    "- A **tuple** for the coordinates of the circle's center.\n",
    "- A **tuple** of four integers for the top-left corner coordinates, the width and height of the rectangle."
   ]
  },
  {
   "cell_type": "markdown",
   "metadata": {
    "slideshow": {
     "slide_type": "fragment"
    }
   },
   "source": [
    "<p style=\"text-align: center;\">Instead of that <strong>tuple</strong>, a `Rect` <strong>object</strong> can be passed as well.</p>"
   ]
  },
  {
   "cell_type": "markdown",
   "metadata": {
    "slideshow": {
     "slide_type": "subslide"
    }
   },
   "source": [
    "The `pygame.Rect` data type (Rect for short) represents rectangular areas of a certain size and location, to put text in, for example. \n",
    "\n",
    "This is what we use to set the location of objects on a window."
   ]
  },
  {
   "cell_type": "markdown",
   "metadata": {
    "slideshow": {
     "slide_type": "-"
    }
   },
   "source": [
    "```\n",
    "basicFont = pygame.font.SysFont(None, 48)\n",
    "text = basicFont.render('Hello world!', True,\n",
    "                         WHITE, BLUE)\n",
    "\n",
    "textRect = text.get_rect()\n",
    "```"
   ]
  },
  {
   "cell_type": "markdown",
   "metadata": {
    "slideshow": {
     "slide_type": "fragment"
    }
   },
   "source": [
    "... once created a `Font` object, a `Rect` object is already made for it: just **retrieve it** using the `get_rect()` method on `text` and then assign it."
   ]
  },
  {
   "cell_type": "markdown",
   "metadata": {
    "slideshow": {
     "slide_type": "subslide"
    }
   },
   "source": [
    "To create (from scratch) a new Rect object:"
   ]
  },
  {
   "cell_type": "markdown",
   "metadata": {
    "slideshow": {
     "slide_type": "-"
    }
   },
   "source": [
    "```\n",
    "pygame.Rect(left, top, width, height)\n",
    "```"
   ]
  },
  {
   "cell_type": "markdown",
   "metadata": {
    "slideshow": {
     "slide_type": "-"
    }
   },
   "source": [
    "Notice that it has the same name as the data type. These are called **constructor** functions (create objects or values of their data type).\n",
    "\n",
    "The parameters are the coordinates of the top-left corner, followed by the width and height, all in pixels."
   ]
  },
  {
   "cell_type": "markdown",
   "metadata": {
    "slideshow": {
     "slide_type": "subslide"
    }
   },
   "source": [
    "Just as **methods** are functions that are associated with an object, **attributes** are variables that are associated with an object. \n",
    "\n",
    "The `Rect` data type has many attributes that describe the rectangle they represent. "
   ]
  },
  {
   "cell_type": "markdown",
   "metadata": {
    "slideshow": {
     "slide_type": "subslide"
    }
   },
   "source": [
    "To set its location on the window, we could assign its center coordinates, i.e. `centerx` and `centery`, the attributes that store these coordinates."
   ]
  },
  {
   "cell_type": "markdown",
   "metadata": {
    "slideshow": {
     "slide_type": "-"
    }
   },
   "source": [
    "```\n",
    "textRect.centerx = windowSurface.get_rect().centerx\n",
    "textRect.centery = windowSurface.get_rect().centery\n",
    "```"
   ]
  },
  {
   "cell_type": "markdown",
   "metadata": {
    "slideshow": {
     "slide_type": "fragment"
    }
   },
   "source": [
    "To put `textRect` in the center of the window, just get the `windowSurface` Rect object's `centerx` and `centery` **attributes**, and then assign those to the `textRect`'s ones!\n",
    "\n",
    "There are many other `Rect` **attributes** that we can use."
   ]
  },
  {
   "cell_type": "markdown",
   "metadata": {
    "slideshow": {
     "slide_type": "subslide"
    }
   },
   "source": [
    "### the `blit()` method for Surface Objects"
   ]
  },
  {
   "cell_type": "markdown",
   "metadata": {
    "slideshow": {
     "slide_type": "-"
    }
   },
   "source": [
    "it draws the contents of one Surface object onto another Surface object. "
   ]
  },
  {
   "cell_type": "markdown",
   "metadata": {
    "slideshow": {
     "slide_type": "fragment"
    }
   },
   "source": [
    "Text objects created by the `render()` method exist on their own Surface object. \n",
    "\n",
    "Pygame drawing methods can all specify the Surface object to draw on, but `text` was stored into a variable rather than drawn onto `windowSurface`. "
   ]
  },
  {
   "cell_type": "markdown",
   "metadata": {
    "slideshow": {
     "slide_type": "subslide"
    }
   },
   "source": [
    "To draw text on the Surface we want it to appear on, let's use the `blit()` method:\n",
    "```\n",
    "windowSurface.blit(text, textRect)\n",
    "```"
   ]
  }
 ],
 "metadata": {
  "celltoolbar": "Slideshow",
  "kernelspec": {
   "display_name": "Python 3",
   "language": "python",
   "name": "python3"
  },
  "language_info": {
   "codemirror_mode": {
    "name": "ipython",
    "version": 3
   },
   "file_extension": ".py",
   "mimetype": "text/x-python",
   "name": "python",
   "nbconvert_exporter": "python",
   "pygments_lexer": "ipython3",
   "version": "3.4.5"
  }
 },
 "nbformat": 4,
 "nbformat_minor": 2
}
