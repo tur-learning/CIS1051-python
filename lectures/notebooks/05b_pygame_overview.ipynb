{
 "cells": [
  {
   "cell_type": "markdown",
   "metadata": {
    "slideshow": {
     "slide_type": "slide"
    }
   },
   "source": [
    "   # CIS 1051 - Temple Rome Spring 2023"
   ]
  },
  {
   "cell_type": "markdown",
   "metadata": {
    "slideshow": {
     "slide_type": "-"
    }
   },
   "source": [
    "## Intro to Problem solving and \n",
    "## Programming in Python"
   ]
  },
  {
   "cell_type": "markdown",
   "metadata": {
    "slideshow": {
     "slide_type": "-"
    }
   },
   "source": [
    "![LOGO](img/temple-logo.png)"
   ]
  },
  {
   "cell_type": "markdown",
   "metadata": {
    "slideshow": {
     "slide_type": "subslide"
    }
   },
   "source": [
    "![LOGO](img/temple-logo.png)"
   ]
  },
  {
   "cell_type": "markdown",
   "metadata": {
    "slideshow": {
     "slide_type": "-"
    }
   },
   "source": [
    "### Overview of `pygame` & SDP"
   ]
  },
  {
   "cell_type": "markdown",
   "metadata": {
    "slideshow": {
     "slide_type": "-"
    }
   },
   "source": [
    "Prof. Andrea Gallegati\n",
    "\n",
    "( [tuj81353@temple.edu](tuj81353@temple.edu) )"
   ]
  },
  {
   "cell_type": "markdown",
   "metadata": {
    "slideshow": {
     "slide_type": "slide"
    }
   },
   "source": [
    "## ... an overview of `pygame`"
   ]
  },
  {
   "cell_type": "markdown",
   "metadata": {
    "slideshow": {
     "slide_type": "-"
    }
   },
   "source": [
    "How to use `pygame` to make games with graphics, animations, user input, sound."
   ]
  },
  {
   "cell_type": "markdown",
   "metadata": {
    "slideshow": {
     "slide_type": "-"
    }
   },
   "source": [
    "This class will make use of some **terms** and **concepts** that have not been yet defined/introduced.\n",
    "\n",
    "Take them as abstract entities, as long as they wont't be covered in details!"
   ]
  },
  {
   "cell_type": "markdown",
   "metadata": {
    "slideshow": {
     "slide_type": "subslide"
    }
   },
   "source": [
    "The following slides are taken from an amazing book! https://nostarch.com/inventwithpython"
   ]
  },
  {
   "cell_type": "markdown",
   "metadata": {
    "collapsed": true,
    "slideshow": {
     "slide_type": "-"
    }
   },
   "source": [
    "<img src=\"img/invent.png\" style=\"margin:auto\" width=\"500\">"
   ]
  },
  {
   "cell_type": "markdown",
   "metadata": {
    "slideshow": {
     "slide_type": "subslide"
    }
   },
   "source": [
    "### Install  `pygame`"
   ]
  },
  {
   "cell_type": "markdown",
   "metadata": {
    "slideshow": {
     "slide_type": "-"
    }
   },
   "source": [
    "you can use any packet manager, e.g.\n",
    "\n",
    "```\n",
    ">>> pip install pygame\n",
    "```"
   ]
  },
  {
   "cell_type": "markdown",
   "metadata": {
    "slideshow": {
     "slide_type": "fragment"
    }
   },
   "source": [
    "and check it, entering in the interactive shell:\n",
    "\n",
    "```\n",
    ">>> import pygame\n",
    "\n",
    "```"
   ]
  },
  {
   "cell_type": "markdown",
   "metadata": {
    "slideshow": {
     "slide_type": "-"
    }
   },
   "source": [
    "... if no `ImportError` appears, it installed correctly."
   ]
  },
  {
   "cell_type": "markdown",
   "metadata": {
    "slideshow": {
     "slide_type": "subslide"
    }
   },
   "source": [
    "### `pygame` I/O"
   ]
  },
  {
   "cell_type": "markdown",
   "metadata": {
    "slideshow": {
     "slide_type": "-"
    }
   },
   "source": [
    "`pygame` module does not work very well in interactive mode. Better to write programs using an Integrated Development Environment (aka **IDE**), such as Visual Studio Code and its **Dockerized** version."
   ]
  },
  {
   "cell_type": "markdown",
   "metadata": {
    "slideshow": {
     "slide_type": "fragment"
    }
   },
   "source": [
    "`pygame` programs don’t use the `print()` or `input()` functions, instead\n",
    "- it displays output by drawing graphics and text in a separate **window**\n",
    "- input comes from the keyboard and the mouse through **events**"
   ]
  },
  {
   "cell_type": "markdown",
   "metadata": {
    "slideshow": {
     "slide_type": "subslide"
    }
   },
   "source": [
    "### `import pygame`"
   ]
  },
  {
   "cell_type": "markdown",
   "metadata": {
    "slideshow": {
     "slide_type": "-"
    }
   },
   "source": [
    "First, import the `pygame` module to call its functions and several other modules &ndash; on the same line &ndash; by separating them with commas."
   ]
  },
  {
   "cell_type": "markdown",
   "metadata": {
    "slideshow": {
     "slide_type": "-"
    }
   },
   "source": [
    "```\n",
    "import pygame, sys\n",
    "from pygame.locals import *\n",
    "```"
   ]
  },
  {
   "cell_type": "markdown",
   "metadata": {
    "slideshow": {
     "slide_type": "fragment"
    }
   },
   "source": [
    "Then, import the `pygame.locals` module that contains many constant variables to use with pygame, such as \n",
    "- `QUIT`, which helps you quit the program\n",
    "- `K_ESCAPE`, which represents the `ESC` key."
   ]
  },
  {
   "cell_type": "markdown",
   "metadata": {
    "slideshow": {
     "slide_type": "subslide"
    }
   },
   "source": [
    "using the following syntax \n",
    "```\n",
    "from <a_module_name> import *\n",
    "```\n",
    "rather than\n",
    "```\n",
    "import <a_module_name>\n",
    "```\n",
    "lets you use the `<a_module_name>` module without having to type its name in front of its methods, constants, or anything else you call from the module.\n",
    "\n",
    "Sometimes, it’s better to use the full function name so you know which module the function is in, e.g. `sys.exit()`"
   ]
  },
  {
   "cell_type": "markdown",
   "metadata": {
    "slideshow": {
     "slide_type": "subslide"
    }
   },
   "source": [
    "### initialize `pygame`"
   ]
  },
  {
   "cell_type": "markdown",
   "metadata": {
    "slideshow": {
     "slide_type": "-"
    }
   },
   "source": [
    "All pygame programs must call pygame.init() **after importing** the pygame module, but **before calling** any other pygame function."
   ]
  },
  {
   "cell_type": "markdown",
   "metadata": {
    "slideshow": {
     "slide_type": "-"
    }
   },
   "source": [
    "```\n",
    "pygame.init()\n",
    "```"
   ]
  },
  {
   "cell_type": "markdown",
   "metadata": {
    "slideshow": {
     "slide_type": "fragment"
    }
   },
   "source": [
    "\n",
    "\n",
    "<p style=\"text-align: center;\">... so it’s ready to use. You don’t need to know what init() does; just remember to call it before using any other pygame functions.</p>"
   ]
  },
  {
   "cell_type": "markdown",
   "metadata": {
    "slideshow": {
     "slide_type": "slide"
    }
   },
   "source": [
    "### setup the GUI"
   ]
  },
  {
   "cell_type": "markdown",
   "metadata": {
    "slideshow": {
     "slide_type": "-"
    }
   },
   "source": [
    "To prepare a graphical user interface (aka **GUI**) window calls the `set_mode()` **method** in the `pygame.display` module."
   ]
  },
  {
   "cell_type": "markdown",
   "metadata": {
    "slideshow": {
     "slide_type": "fragment"
    }
   },
   "source": [
    "```\n",
    "windowSize = (500, 400)\n",
    "windowSurface = pygame.display.set_mode(windowSize)\n",
    "```"
   ]
  },
  {
   "cell_type": "markdown",
   "metadata": {
    "slideshow": {
     "slide_type": "-"
    }
   },
   "source": [
    "\n",
    "\n",
    "<p style=\"text-align: center;\"> (The display module is a **module** inside the pygame **module**. Even the pygame module has its own modules!)</p>"
   ]
  },
  {
   "cell_type": "markdown",
   "metadata": {
    "slideshow": {
     "slide_type": "subslide"
    }
   },
   "source": [
    "This helps set up a window for pygame to run in. This window uses a **coordinate system**, that is organized in **pixels**.\n",
    "\n",
    "A pixel is the tiniest dot on your computer screen and it can light up in any color. "
   ]
  },
  {
   "cell_type": "markdown",
   "metadata": {
    "slideshow": {
     "slide_type": "fragment"
    }
   },
   "source": [
    "All the pixels on your screen work together to display the pictures you see. We’ll create a window 500 pixels wide and 400 pixels tall by using a **tuple**.\n",
    "\n",
    "There are several parameters to pass to the `pygame.display.set_mode()` method: the mandatory one is a tuple of two integers for the width and height of the window, in pixels."
   ]
  },
  {
   "cell_type": "markdown",
   "metadata": {
    "slideshow": {
     "slide_type": "subslide"
    }
   },
   "source": [
    "Then we can set a title, with this function that change the name on the window:\n",
    "\n",
    "The `set_caption()` method just sets the window’s caption, that is in the top left of the window."
   ]
  },
  {
   "cell_type": "markdown",
   "metadata": {
    "slideshow": {
     "slide_type": "-"
    }
   },
   "source": [
    "```\n",
    "pygame.display.set_caption('Hello world!')\n",
    "```"
   ]
  },
  {
   "cell_type": "markdown",
   "metadata": {
    "slideshow": {
     "slide_type": "subslide"
    }
   },
   "source": [
    "The `set_mode()` function in the `pygame.display` module returns a `pygame.Surface` **object** (we’ll call Surface objects for short).\n",
    "\n",
    "The Surface object represents the window."
   ]
  },
  {
   "cell_type": "markdown",
   "metadata": {
    "slideshow": {
     "slide_type": "fragment"
    }
   },
   "source": [
    "For now, an **object** is just another name for a value of a data type that has **methods**, for example: `strings` have data (the string itself) and methods (e.g.`lower()` and `split()`). Variables store references to objects just as they store **references** for other types."
   ]
  },
  {
   "cell_type": "markdown",
   "metadata": {
    "slideshow": {
     "slide_type": "subslide"
    }
   },
   "source": [
    "Inside the `pygame` module there are, for example, the `font` and `surface` modules.\n",
    "\n",
    "Inside those modules are the `Font` and `Surface` data types. "
   ]
  },
  {
   "cell_type": "markdown",
   "metadata": {
    "slideshow": {
     "slide_type": "fragment"
    }
   },
   "source": [
    "The pygame programmers began the modules names with a **lowercase** letter and the data types with an **uppercase** letter to make it easier to distinguish the data types and the modules. This is a good example of why **naming conventions** can turn usefull when you want to share your code with others."
   ]
  },
  {
   "cell_type": "markdown",
   "metadata": {
    "slideshow": {
     "slide_type": "slide"
    }
   },
   "source": [
    "### setup color variables"
   ]
  },
  {
   "cell_type": "markdown",
   "metadata": {
    "slideshow": {
     "slide_type": "subslide"
    }
   },
   "source": [
    "There are three primary colors of light for pixels: red, green, and blue. By combining different amounts of these three colors you can form any other color. \n",
    "\n",
    "In pygame, colors are represented by **tuples** of three integers (aka **RGB** color codes).\n",
    "\n",
    "Not to rewrite a tuple every time we need it, let's make constants to hold that values (colors)."
   ]
  },
  {
   "cell_type": "markdown",
   "metadata": {
    "slideshow": {
     "slide_type": "fragment"
    }
   },
   "source": [
    "```\n",
    "BLACK = (  0,   0,   0)\n",
    "WHITE = (255, 255, 255)\n",
    "RED   = (255,   0,   0)\n",
    "GREEN = (  0, 255,   0)\n",
    "BLUE  = (  0,   0, 255)\n",
    "```"
   ]
  },
  {
   "cell_type": "markdown",
   "metadata": {
    "slideshow": {
     "slide_type": "fragment"
    }
   },
   "source": [
    "You can mix the amount of red, green, and blue to get any shade of any color!"
   ]
  },
  {
   "cell_type": "markdown",
   "metadata": {
    "slideshow": {
     "slide_type": "slide"
    }
   },
   "source": [
    "### coloring a Surface Object\n"
   ]
  },
  {
   "cell_type": "markdown",
   "metadata": {
    "slideshow": {
     "slide_type": "-"
    }
   },
   "source": [
    "We want to fill the entire surface stored in `windowSurface` with the color black, as we did within our snake game.\n",
    "\n",
    "The `fill()` function will completely cover the surface with the color you pass as the parameter."
   ]
  },
  {
   "cell_type": "markdown",
   "metadata": {
    "slideshow": {
     "slide_type": "fragment"
    }
   },
   "source": [
    "```\n",
    "windowSurface.fill(BLACK)\n",
    "```"
   ]
  },
  {
   "cell_type": "markdown",
   "metadata": {
    "slideshow": {
     "slide_type": "subslide"
    }
   },
   "source": [
    "Please note that the window on the screen won’t change when you call the fill() method or any of the other drawing functions: these will change the Surface object.\n",
    "\n",
    "You have to **render** the Surface object to the screen with the `pygame.display.update()` function."
   ]
  },
  {
   "cell_type": "markdown",
   "metadata": {
    "slideshow": {
     "slide_type": "fragment"
    }
   },
   "source": [
    "Modifying the Surface object in the computer’s memory is much faster than modifying the image on the screen.\n",
    "\n",
    "It is much more efficient to **render** it once all the other methods were called on the Surface object."
   ]
  }
 ],
 "metadata": {
  "celltoolbar": "Slideshow",
  "kernelspec": {
   "display_name": "Python 3",
   "language": "python",
   "name": "python3"
  },
  "language_info": {
   "codemirror_mode": {
    "name": "ipython",
    "version": 3
   },
   "file_extension": ".py",
   "mimetype": "text/x-python",
   "name": "python",
   "nbconvert_exporter": "python",
   "pygments_lexer": "ipython3",
   "version": "3.4.5"
  }
 },
 "nbformat": 4,
 "nbformat_minor": 2
}
