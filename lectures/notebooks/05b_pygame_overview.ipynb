{
 "cells": [
  {
   "cell_type": "markdown",
   "metadata": {
    "slideshow": {
     "slide_type": "slide"
    }
   },
   "source": [
    "   # CIS 1051 - Temple Rome Spring 2023"
   ]
  },
  {
   "cell_type": "markdown",
   "metadata": {
    "slideshow": {
     "slide_type": "-"
    }
   },
   "source": [
    "## Intro to Problem solving and \n",
    "## Programming in Python"
   ]
  },
  {
   "cell_type": "markdown",
   "metadata": {
    "slideshow": {
     "slide_type": "-"
    }
   },
   "source": [
    "![LOGO](img/temple-logo.png)"
   ]
  },
  {
   "cell_type": "markdown",
   "metadata": {
    "slideshow": {
     "slide_type": "subslide"
    }
   },
   "source": [
    "![LOGO](img/temple-logo.png)"
   ]
  },
  {
   "cell_type": "markdown",
   "metadata": {
    "slideshow": {
     "slide_type": "-"
    }
   },
   "source": [
    "### Overview of `pygame` & SDP"
   ]
  },
  {
   "cell_type": "markdown",
   "metadata": {
    "slideshow": {
     "slide_type": "-"
    }
   },
   "source": [
    "Prof. Andrea Gallegati\n",
    "\n",
    "( [tuj81353@temple.edu](tuj81353@temple.edu) )"
   ]
  },
  {
   "cell_type": "markdown",
   "metadata": {
    "slideshow": {
     "slide_type": "slide"
    }
   },
   "source": [
    "## ... an overview of `pygame`"
   ]
  },
  {
   "cell_type": "markdown",
   "metadata": {
    "slideshow": {
     "slide_type": "-"
    }
   },
   "source": [
    "How to use `pygame` to make games with graphics, animations, user input, sound."
   ]
  },
  {
   "cell_type": "markdown",
   "metadata": {
    "slideshow": {
     "slide_type": "-"
    }
   },
   "source": [
    "This class will make use of some **terms** and **concepts** that have not been yet defined/introduced.\n",
    "\n",
    "Take them as abstract entities, as long as they wont't be covered in details!"
   ]
  },
  {
   "cell_type": "markdown",
   "metadata": {
    "slideshow": {
     "slide_type": "subslide"
    }
   },
   "source": [
    "The following slides are taken from an amazing book! https://nostarch.com/inventwithpython"
   ]
  },
  {
   "cell_type": "markdown",
   "metadata": {
    "collapsed": true,
    "slideshow": {
     "slide_type": "-"
    }
   },
   "source": [
    "<img src=\"img/invent.png\" style=\"margin:auto\" width=\"500\">"
   ]
  },
  {
   "cell_type": "markdown",
   "metadata": {
    "slideshow": {
     "slide_type": "subslide"
    }
   },
   "source": [
    "### Install  `pygame`"
   ]
  },
  {
   "cell_type": "markdown",
   "metadata": {
    "slideshow": {
     "slide_type": "-"
    }
   },
   "source": [
    "you can use any packet manager, e.g.\n",
    "\n",
    "```\n",
    ">>> pip install pygame\n",
    "```"
   ]
  },
  {
   "cell_type": "markdown",
   "metadata": {
    "slideshow": {
     "slide_type": "fragment"
    }
   },
   "source": [
    "and check it, entering in the interactive shell:\n",
    "\n",
    "```\n",
    ">>> import pygame\n",
    "\n",
    "```"
   ]
  },
  {
   "cell_type": "markdown",
   "metadata": {
    "slideshow": {
     "slide_type": "-"
    }
   },
   "source": [
    "... if no `ImportError` appears, it installed correctly."
   ]
  },
  {
   "cell_type": "markdown",
   "metadata": {
    "slideshow": {
     "slide_type": "subslide"
    }
   },
   "source": [
    "### `pygame` I/O"
   ]
  },
  {
   "cell_type": "markdown",
   "metadata": {
    "slideshow": {
     "slide_type": "-"
    }
   },
   "source": [
    "`pygame` module does not work very well in interactive mode. Better to write programs using an Integrated Development Environment (aka **IDE**), such as Visual Studio Code and its **Dockerized** version."
   ]
  },
  {
   "cell_type": "markdown",
   "metadata": {
    "slideshow": {
     "slide_type": "fragment"
    }
   },
   "source": [
    "`pygame` programs don’t use the `print()` or `input()` functions, instead\n",
    "- it displays output by drawing graphics and text in a separate **window**\n",
    "- input comes from the keyboard and the mouse through **events**"
   ]
  },
  {
   "cell_type": "markdown",
   "metadata": {
    "slideshow": {
     "slide_type": "subslide"
    }
   },
   "source": [
    "### `import pygame`"
   ]
  },
  {
   "cell_type": "markdown",
   "metadata": {
    "slideshow": {
     "slide_type": "-"
    }
   },
   "source": [
    "First, import the `pygame` module to call its functions and several other modules &ndash; on the same line &ndash; by separating them with commas."
   ]
  },
  {
   "cell_type": "markdown",
   "metadata": {
    "slideshow": {
     "slide_type": "-"
    }
   },
   "source": [
    "```\n",
    "import pygame, sys\n",
    "from pygame.locals import *\n",
    "```"
   ]
  },
  {
   "cell_type": "markdown",
   "metadata": {
    "slideshow": {
     "slide_type": "fragment"
    }
   },
   "source": [
    "Then, import the `pygame.locals` module that contains many constant variables to use with pygame, such as \n",
    "- `QUIT`, which helps you quit the program\n",
    "- `K_ESCAPE`, which represents the `ESC` key."
   ]
  },
  {
   "cell_type": "markdown",
   "metadata": {
    "slideshow": {
     "slide_type": "subslide"
    }
   },
   "source": [
    "using the following syntax \n",
    "```\n",
    "from <a_module_name> import *\n",
    "```\n",
    "rather than\n",
    "```\n",
    "import <a_module_name>\n",
    "```\n",
    "lets you use the `<a_module_name>` module without having to type its name in front of its methods, constants, or anything else you call from the module.\n",
    "\n",
    "Sometimes, it’s better to use the full function name so you know which module the function is in, e.g. `sys.exit()`"
   ]
  },
  {
   "cell_type": "markdown",
   "metadata": {
    "slideshow": {
     "slide_type": "subslide"
    }
   },
   "source": [
    "### initialize `pygame`"
   ]
  },
  {
   "cell_type": "markdown",
   "metadata": {
    "slideshow": {
     "slide_type": "-"
    }
   },
   "source": [
    "All pygame programs must call pygame.init() **after importing** the pygame module, but **before calling** any other pygame function."
   ]
  },
  {
   "cell_type": "markdown",
   "metadata": {
    "slideshow": {
     "slide_type": "-"
    }
   },
   "source": [
    "```\n",
    "pygame.init()\n",
    "```"
   ]
  },
  {
   "cell_type": "markdown",
   "metadata": {
    "slideshow": {
     "slide_type": "fragment"
    }
   },
   "source": [
    "\n",
    "\n",
    "<p style=\"text-align: center;\">... so it’s ready to use. You don’t need to know what init() does; just remember to call it before using any other pygame functions.</p>"
   ]
  },
  {
   "cell_type": "markdown",
   "metadata": {
    "slideshow": {
     "slide_type": "slide"
    }
   },
   "source": [
    "### setup the GUI"
   ]
  },
  {
   "cell_type": "markdown",
   "metadata": {
    "slideshow": {
     "slide_type": "-"
    }
   },
   "source": [
    "To prepare a graphical user interface (aka **GUI**) window calls the `set_mode()` **method** in the `pygame.display` module."
   ]
  },
  {
   "cell_type": "markdown",
   "metadata": {
    "slideshow": {
     "slide_type": "fragment"
    }
   },
   "source": [
    "```\n",
    "windowSize = (500, 400)\n",
    "windowSurface = pygame.display.set_mode(windowSize)\n",
    "```"
   ]
  },
  {
   "cell_type": "markdown",
   "metadata": {
    "slideshow": {
     "slide_type": "-"
    }
   },
   "source": [
    "<p style=\"text-align: center;\"> (The display module is a <strong>module</strong> inside the pygame <strong>module</strong>. Even the pygame module has its own modules!)</p>"
   ]
  },
  {
   "cell_type": "markdown",
   "metadata": {
    "slideshow": {
     "slide_type": "subslide"
    }
   },
   "source": [
    "This helps set up a window for pygame to run in. This window uses a **coordinate system**, that is organized in **pixels**.\n",
    "\n",
    "A pixel is the tiniest dot on your computer screen and it can light up in any color. "
   ]
  },
  {
   "cell_type": "markdown",
   "metadata": {
    "slideshow": {
     "slide_type": "fragment"
    }
   },
   "source": [
    "All the pixels on your screen work together to display the pictures you see. We’ll create a window 500 pixels wide and 400 pixels tall by using a **tuple**.\n",
    "\n",
    "There are several parameters to pass to the `pygame.display.set_mode()` method: the mandatory one is a tuple of two integers for the width and height of the window, in pixels."
   ]
  },
  {
   "cell_type": "markdown",
   "metadata": {
    "slideshow": {
     "slide_type": "subslide"
    }
   },
   "source": [
    "Then we can set a title, with this function that change the name on the window:\n",
    "\n",
    "The `set_caption()` method just sets the window’s caption, that is in the top left of the window."
   ]
  },
  {
   "cell_type": "markdown",
   "metadata": {
    "slideshow": {
     "slide_type": "-"
    }
   },
   "source": [
    "```\n",
    "pygame.display.set_caption('Hello world!')\n",
    "```"
   ]
  },
  {
   "cell_type": "markdown",
   "metadata": {
    "slideshow": {
     "slide_type": "subslide"
    }
   },
   "source": [
    "The `set_mode()` function in the `pygame.display` module returns a `pygame.Surface` **object** (we’ll call Surface objects for short).\n",
    "\n",
    "The Surface object represents the window."
   ]
  },
  {
   "cell_type": "markdown",
   "metadata": {
    "slideshow": {
     "slide_type": "fragment"
    }
   },
   "source": [
    "For now, an **object** is just another name for a value of a data type that has **methods**, for example: `strings` have data (the string itself) and methods (e.g.`lower()` and `split()`). Variables store references to objects just as they store **references** for other types."
   ]
  },
  {
   "cell_type": "markdown",
   "metadata": {
    "slideshow": {
     "slide_type": "subslide"
    }
   },
   "source": [
    "Inside the `pygame` module there are, for example, the `font` and `surface` modules.\n",
    "\n",
    "Inside those modules are the `Font` and `Surface` data types. "
   ]
  },
  {
   "cell_type": "markdown",
   "metadata": {
    "slideshow": {
     "slide_type": "fragment"
    }
   },
   "source": [
    "The pygame programmers began the modules names with a **lowercase** letter and the data types with an **uppercase** letter to make it easier to distinguish the data types and the modules. This is a good example of why **naming conventions** can turn usefull when you want to share your code with others."
   ]
  },
  {
   "cell_type": "markdown",
   "metadata": {
    "slideshow": {
     "slide_type": "slide"
    }
   },
   "source": [
    "### setup color variables"
   ]
  },
  {
   "cell_type": "markdown",
   "metadata": {
    "slideshow": {
     "slide_type": "subslide"
    }
   },
   "source": [
    "There are three primary colors of light for pixels: red, green, and blue. By combining different amounts of these three colors you can form any other color. \n",
    "\n",
    "In pygame, colors are represented by **tuples** of three integers (aka **RGB** color codes).\n",
    "\n",
    "Not to rewrite a tuple every time we need it, let's make constants to hold that values (colors)."
   ]
  },
  {
   "cell_type": "markdown",
   "metadata": {
    "slideshow": {
     "slide_type": "fragment"
    }
   },
   "source": [
    "```\n",
    "BLACK = (  0,   0,   0)\n",
    "WHITE = (255, 255, 255)\n",
    "RED   = (255,   0,   0)\n",
    "GREEN = (  0, 255,   0)\n",
    "BLUE  = (  0,   0, 255)\n",
    "```"
   ]
  },
  {
   "cell_type": "markdown",
   "metadata": {
    "slideshow": {
     "slide_type": "fragment"
    }
   },
   "source": [
    "You can mix the amount of red, green, and blue to get any shade of any color!"
   ]
  },
  {
   "cell_type": "markdown",
   "metadata": {
    "slideshow": {
     "slide_type": "slide"
    }
   },
   "source": [
    "### the Surface Object\n"
   ]
  },
  {
   "cell_type": "markdown",
   "metadata": {
    "slideshow": {
     "slide_type": "-"
    }
   },
   "source": [
    "We want to fill the entire surface stored in `windowSurface` with the color black, as we did within our snake game.\n",
    "\n",
    "The `fill()` function will completely cover the surface with the color you pass as the parameter."
   ]
  },
  {
   "cell_type": "markdown",
   "metadata": {
    "slideshow": {
     "slide_type": "fragment"
    }
   },
   "source": [
    "```\n",
    "windowSurface.fill(BLACK)\n",
    "```"
   ]
  },
  {
   "cell_type": "markdown",
   "metadata": {
    "slideshow": {
     "slide_type": "subslide"
    }
   },
   "source": [
    "Note, the window won’t change when you call the `fill()` method or any other drawing function: these just change the Surface object.\n",
    "\n",
    "`pygame.display.update()` function will **render** it to the screen."
   ]
  },
  {
   "cell_type": "markdown",
   "metadata": {
    "slideshow": {
     "slide_type": "fragment"
    }
   },
   "source": [
    "Modifying the Surface object in the computer’s memory is much faster than modifying the image on the screen.\n",
    "\n",
    "Better (more efficient) to **render** it once all the other methods were called on the Surface object."
   ]
  },
  {
   "cell_type": "markdown",
   "metadata": {
    "slideshow": {
     "slide_type": "subslide"
    }
   },
   "source": [
    "### `pygame`'s drawing functions"
   ]
  },
  {
   "cell_type": "markdown",
   "metadata": {
    "slideshow": {
     "slide_type": "-"
    }
   },
   "source": [
    "Similarly to the `turtle` module, even `pygame` has its own functions to draw shapes and lines. \n",
    "\n",
    "Here, each shape has its own function, and you can combine these shapes into different pictures for your graphical game."
   ]
  },
  {
   "cell_type": "markdown",
   "metadata": {
    "slideshow": {
     "slide_type": "subslide"
    }
   },
   "source": [
    "Draws any polygon shape (a multisided shape with straight lines sides). To draw circles and ellipses, for example, there are other functions."
   ]
  },
  {
   "cell_type": "markdown",
   "metadata": {
    "slideshow": {
     "slide_type": "-"
    }
   },
   "source": [
    "```\n",
    "pygame.draw.polygon(windowSurface, GREEN, \n",
    "                    ((146, 0), (291, 106),\n",
    "                    (236, 277), (56, 277), (0, 106)))\n",
    "```"
   ]
  },
  {
   "cell_type": "markdown",
   "metadata": {
    "slideshow": {
     "slide_type": "fragment"
    }
   },
   "source": [
    "- The Surface object to draw the polygon on.\n",
    "- The color of the polygon.\n",
    "- A **tuple of tuples** for the coordinates of the points to draw in order. Last point, automatically connects to the first.\n",
    "- The width of the polygon lines (optional, without it the polygon is filled in)."
   ]
  },
  {
   "cell_type": "markdown",
   "metadata": {
    "slideshow": {
     "slide_type": "subslide"
    }
   },
   "source": [
    "Draws couple lines from one point on the screen to another point."
   ]
  },
  {
   "cell_type": "markdown",
   "metadata": {
    "slideshow": {
     "slide_type": "-"
    }
   },
   "source": [
    "```\n",
    "pygame.draw.line(windowSurface, BLUE, \n",
    "                 (60, 60), (120, 60), 4)\n",
    "pygame.draw.line(windowSurface, BLUE, \n",
    "                 (120, 60), (60, 120))\n",
    "```"
   ]
  },
  {
   "cell_type": "markdown",
   "metadata": {
    "slideshow": {
     "slide_type": "fragment"
    }
   },
   "source": [
    "- The Surface object to draw the line on.\n",
    "- The color of the line.\n",
    "- Two **tuples** for the line end-points coordinates.\n",
    "- The width ofthe line in pixels (optional)."
   ]
  },
  {
   "cell_type": "markdown",
   "metadata": {
    "slideshow": {
     "slide_type": "subslide"
    }
   },
   "source": [
    "Draws a circle."
   ]
  },
  {
   "cell_type": "markdown",
   "metadata": {
    "slideshow": {
     "slide_type": "-"
    }
   },
   "source": [
    "```\n",
    "pygame.draw.circle(windowSurface, BLUE, \n",
    "                   (300, 50), 20, 0)\n",
    "```"
   ]
  },
  {
   "cell_type": "markdown",
   "metadata": {
    "slideshow": {
     "slide_type": "fragment"
    }
   },
   "source": [
    "- The Surface object to draw the circle on.\n",
    "- The color of the circle.\n",
    "- A **tuple** for the coordinates of the circle's center.\n",
    "- The radius (i.e. size) of the circle.\n",
    "- The line width in pixels (optional, if `0` the circle is filled in)."
   ]
  },
  {
   "cell_type": "markdown",
   "metadata": {
    "slideshow": {
     "slide_type": "subslide"
    }
   },
   "source": [
    "Draws an ellipse, which is like a squished circle. Thus, the two functions are similar."
   ]
  },
  {
   "cell_type": "markdown",
   "metadata": {
    "slideshow": {
     "slide_type": "-"
    }
   },
   "source": [
    "```\n",
    " pygame.draw.ellipse(windowSurface, RED, \n",
    "                     (300, 250, 40, 80), 1)\n",
    " ```"
   ]
  },
  {
   "cell_type": "markdown",
   "metadata": {
    "slideshow": {
     "slide_type": "fragment"
    }
   },
   "source": [
    "- The Surface object to draw the ellipse on.\n",
    "- The color of the ellipse.\n",
    "- A **tuple** for the coordinates of the circle's center.\n",
    "- A tuple of four integers for the top-left corner coordinates, the width and height of the `Rect` **object** containing the ellipse.\n",
    "- The ellipse width in pixels (optional, if `0` the ellipse is filled in)."
   ]
  },
  {
   "cell_type": "markdown",
   "metadata": {
    "slideshow": {
     "slide_type": "subslide"
    }
   },
   "source": [
    "Draws a rectangle."
   ]
  },
  {
   "cell_type": "markdown",
   "metadata": {
    "slideshow": {
     "slide_type": "-"
    }
   },
   "source": [
    "```\n",
    "pygame.draw.rect(windowSurface, RED, \n",
    "     (textRect.left - 20,  textRect.top - 20, \n",
    "      textRect.width + 40, textRect.height + 40)) \n",
    "```"
   ]
  },
  {
   "cell_type": "markdown",
   "metadata": {
    "slideshow": {
     "slide_type": "fragment"
    }
   },
   "source": [
    "- The Surface object to draw the rectangle on.\n",
    "- The color of the rectangle.\n",
    "- A **tuple** for the coordinates of the circle's center.\n",
    "- A **tuple** of four integers for the top-left corner coordinates, the width and height of the rectangle."
   ]
  },
  {
   "cell_type": "markdown",
   "metadata": {
    "slideshow": {
     "slide_type": "fragment"
    }
   },
   "source": [
    "<p style=\"text-align: center;\">Instead of that <strong>tuple</strong>, a `Rect` <strong>object</strong> can be passed as well.</p>"
   ]
  },
  {
   "cell_type": "markdown",
   "metadata": {
    "slideshow": {
     "slide_type": "subslide"
    }
   },
   "source": [
    "The `pygame.Rect` data type (Rect for short) represents rectangular areas of a certain size and location, to put text in, for example. \n",
    "\n",
    "This is what we use to set the location of objects on a window."
   ]
  },
  {
   "cell_type": "markdown",
   "metadata": {
    "slideshow": {
     "slide_type": "-"
    }
   },
   "source": [
    "```\n",
    "basicFont = pygame.font.SysFont(None, 48)\n",
    "text = basicFont.render('Hello world!', True,\n",
    "                         WHITE, BLUE)\n",
    "\n",
    "textRect = text.get_rect()\n",
    "```"
   ]
  },
  {
   "cell_type": "markdown",
   "metadata": {
    "slideshow": {
     "slide_type": "fragment"
    }
   },
   "source": [
    "... once created a `Font` object, a `Rect` object is already made for it: just **retrieve it** using the `get_rect()` method on `text` and then assign it."
   ]
  },
  {
   "cell_type": "markdown",
   "metadata": {
    "slideshow": {
     "slide_type": "subslide"
    }
   },
   "source": [
    "To create (from scratch) a new Rect object:"
   ]
  },
  {
   "cell_type": "markdown",
   "metadata": {
    "slideshow": {
     "slide_type": "-"
    }
   },
   "source": [
    "```\n",
    "pygame.Rect(left, top, width, height)\n",
    "```"
   ]
  },
  {
   "cell_type": "markdown",
   "metadata": {
    "slideshow": {
     "slide_type": "-"
    }
   },
   "source": [
    "Notice that it has the same name as the data type. These are called **constructor** functions (create objects or values of their data type).\n",
    "\n",
    "The parameters are the coordinates of the top-left corner, followed by the width and height, all in pixels."
   ]
  },
  {
   "cell_type": "markdown",
   "metadata": {
    "slideshow": {
     "slide_type": "subslide"
    }
   },
   "source": [
    "Just as **methods** are functions that are associated with an object, **attributes** are variables that are associated with an object. \n",
    "\n",
    "The `Rect` data type has many attributes that describe the rectangle they represent. "
   ]
  },
  {
   "cell_type": "markdown",
   "metadata": {
    "slideshow": {
     "slide_type": "subslide"
    }
   },
   "source": [
    "To set its location on the window, we could assign its center coordinates, i.e. `centerx` and `centery`, the attributes that store these coordinates."
   ]
  },
  {
   "cell_type": "markdown",
   "metadata": {
    "slideshow": {
     "slide_type": "-"
    }
   },
   "source": [
    "```\n",
    "textRect.centerx = windowSurface.get_rect().centerx\n",
    "textRect.centery = windowSurface.get_rect().centery\n",
    "```"
   ]
  },
  {
   "cell_type": "markdown",
   "metadata": {
    "slideshow": {
     "slide_type": "fragment"
    }
   },
   "source": [
    "To put `textRect` in the center of the window, just get the `windowSurface` Rect object's `centerx` and `centery` **attributes**, and then assign those to the `textRect`'s ones!\n",
    "\n",
    "There are many other `Rect` **attributes** that we can use."
   ]
  },
  {
   "cell_type": "markdown",
   "metadata": {
    "slideshow": {
     "slide_type": "subslide"
    }
   },
   "source": [
    "A great thing about `Rect` **objects** is that if you modify any of these **attributes**, all the other **attributes** will automatically modify themselves, accordingly."
   ]
  },
  {
   "cell_type": "markdown",
   "metadata": {
    "slideshow": {
     "slide_type": "subslide"
    }
   },
   "source": [
    "### the `blit()` method for Surface Objects"
   ]
  },
  {
   "cell_type": "markdown",
   "metadata": {
    "slideshow": {
     "slide_type": "-"
    }
   },
   "source": [
    "it draws the contents of one Surface object onto another Surface object. "
   ]
  },
  {
   "cell_type": "markdown",
   "metadata": {
    "slideshow": {
     "slide_type": "fragment"
    }
   },
   "source": [
    "Text objects created by the `render()` method exist on their own Surface object. \n",
    "\n",
    "Pygame drawing methods can all specify the Surface object to draw on, but `text` was stored into a variable rather than drawn onto `windowSurface`. "
   ]
  },
  {
   "cell_type": "markdown",
   "metadata": {
    "slideshow": {
     "slide_type": "subslide"
    }
   },
   "source": [
    "To draw text on the Surface we want it to appear on, let's use the `blit()` method:\n",
    "```\n",
    "windowSurface.blit(text, textRect)\n",
    "```"
   ]
  },
  {
   "cell_type": "markdown",
   "metadata": {
    "slideshow": {
     "slide_type": "fragment"
    }
   },
   "source": [
    "The second parameter to `blit()` specifies where on `windowSurface` the `text` surface should be drawn. \n",
    "\n",
    "The Rect object we get from calling `text.get_rect()` is then passed for this parameter."
   ]
  },
  {
   "cell_type": "markdown",
   "metadata": {
    "slideshow": {
     "slide_type": "subslide"
    }
   },
   "source": [
    "### drawing Surface Objects on the screen"
   ]
  },
  {
   "cell_type": "markdown",
   "metadata": {
    "slideshow": {
     "slide_type": "-"
    }
   },
   "source": [
    "In pygame nothing is actually drawn to the screen until the `update()` function is called, to display our updated Surface object:\n",
    "```\n",
    "pygame.display.update()\n",
    "```"
   ]
  },
  {
   "cell_type": "markdown",
   "metadata": {
    "slideshow": {
     "slide_type": "fragment"
    }
   },
   "source": [
    "To save memory, don’t update after every single drawing function; instead, update the screen just once, after all the drawing functions have been called."
   ]
  },
  {
   "cell_type": "markdown",
   "metadata": {
    "slideshow": {
     "slide_type": "slide"
    }
   },
   "source": [
    "### Events and the Game Loop"
   ]
  },
  {
   "cell_type": "markdown",
   "metadata": {
    "slideshow": {
     "slide_type": "-"
    }
   },
   "source": [
    "Usually, pygame programs are constantly running through a *game loop*, executing every line of code in a loop, about 100 times a second.\n",
    "\n",
    "The *game loop* constantly checks for new **events**, updates the state of the window, and draws the window on the screen. "
   ]
  },
  {
   "cell_type": "markdown",
   "metadata": {
    "slideshow": {
     "slide_type": "fragment"
    }
   },
   "source": [
    "**Events** are generated by pygame whenever the user presses a key, clicks or moves the mouse, or performs some other action recognized by the program that should make something happen in the game. \n",
    "\n",
    "An **Event** is an **object** of the `pygame.event.Event` data type."
   ]
  },
  {
   "cell_type": "markdown",
   "metadata": {
    "slideshow": {
     "slide_type": "subslide"
    }
   },
   "source": [
    "The condition for the **while statement** is set to `True` so that it loops **forever**.\n",
    "```\n",
    "while True:\n",
    "```"
   ]
  },
  {
   "cell_type": "markdown",
   "metadata": {
    "slideshow": {
     "slide_type": "fragment"
    }
   },
   "source": [
    "The only time the loop will exit is if an **event** causes the program to terminate."
   ]
  },
  {
   "cell_type": "markdown",
   "metadata": {
    "slideshow": {
     "slide_type": "subslide"
    }
   },
   "source": [
    "### ... getting Event Objects"
   ]
  },
  {
   "cell_type": "markdown",
   "metadata": {
    "slideshow": {
     "slide_type": "-"
    }
   },
   "source": [
    "The function `pygame.event.get()` checks for any new `pygame.event.Event` object (called Event object for short), generated since the last call to `pygame.event.get()`. \n",
    "\n",
    "These are returned as a **list** of Event **objects**, which the program will then parse to perform some action in response to the event itself. "
   ]
  },
  {
   "cell_type": "markdown",
   "metadata": {
    "slideshow": {
     "slide_type": "fragment"
    }
   },
   "source": [
    "All Event objects have an attribute called `type`. Right now, we only need to use the `QUIT` event type, which tells us when the user **quits** the program."
   ]
  },
  {
   "cell_type": "markdown",
   "metadata": {
    "slideshow": {
     "slide_type": "subslide"
    }
   },
   "source": [
    "### exiting the program"
   ]
  },
  {
   "cell_type": "markdown",
   "metadata": {
    "slideshow": {
     "slide_type": "-"
    }
   },
   "source": [
    "The *for loop* is to iterate over each Event object in the **list** returned by `pygame.event.get()`. \n",
    "```\n",
    "for event in pygame.event.get():\n",
    "    if event.type == QUIT:\n",
    "        pygame.quit()\n",
    "        sys.exit()\n",
    "```"
   ]
  },
  {
   "cell_type": "markdown",
   "metadata": {
    "slideshow": {
     "slide_type": "fragment"
    }
   },
   "source": [
    "If the type attribute is the constant variable `QUIT`, defined within the `pygame.locals` module imported at the beginning, the program is then told what to do (e.g. when the user closes the program’s window)."
   ]
  },
  {
   "cell_type": "markdown",
   "metadata": {
    "slideshow": {
     "slide_type": "subslide"
    }
   },
   "source": [
    "The `pygame.quit()` function is sort of the opposite of `init()`. You need to call it before exiting your program. \n",
    "\n",
    "If you forget, you may cause **IDLE** to hang after your program has ended."
   ]
  },
  {
   "cell_type": "markdown",
   "metadata": {
    "slideshow": {
     "slide_type": "slide"
    }
   },
   "source": [
    "### Moving and Bouncing the Boxes"
   ]
  },
  {
   "cell_type": "markdown",
   "metadata": {
    "slideshow": {
     "slide_type": "-"
    }
   },
   "source": [
    "Here we have three boxes moving around and bouncing off the walls of a window. First, let's consider how we want the boxes to move:\n",
    "\n",
    "Each box will move in one of four diagonal directions. When a box hits the side of the window, it should bounce off and move in a new diagonal direction."
   ]
  },
  {
   "cell_type": "markdown",
   "metadata": {
    "collapsed": true,
    "slideshow": {
     "slide_type": "-"
    }
   },
   "source": [
    "<img src=\"img/bounce.png\" style=\"margin:auto\" width=\"500\">"
   ]
  },
  {
   "cell_type": "markdown",
   "metadata": {
    "slideshow": {
     "slide_type": "subslide"
    }
   },
   "source": [
    "The new direction that a box moves after it bounces depends on two things: \n",
    "1. which direction it was moving before the bounce.\n",
    "2. which wall it bounced off. \n",
    "\n",
    "There are **eight** possible ways a box can bounce: **two** different ways for each of the **four** walls. "
   ]
  },
  {
   "cell_type": "markdown",
   "metadata": {
    "collapsed": true,
    "slideshow": {
     "slide_type": "-"
    }
   },
   "source": [
    "<img src=\"img/bounce.png\" style=\"margin:auto\" width=\"500\">"
   ]
  },
  {
   "cell_type": "markdown",
   "metadata": {
    "slideshow": {
     "slide_type": "subslide"
    }
   },
   "source": [
    "We can use a `Rect` **object** to represent the position and size of the box, a **tuple** of three integers (RGB) to represent the color of the box, and an *integer* to represent which of the four *diagonal directions* the box is currently moving in."
   ]
  },
  {
   "cell_type": "markdown",
   "metadata": {
    "slideshow": {
     "slide_type": "subslide"
    }
   },
   "source": [
    "The **game loop** will adjust the position of the box and draw all the boxes on the screen at each iteration. \n",
    "\n",
    "As the program execution iterates over the loop, the boxes will gradually move across the screen so that it looks like they’re *smoothly* moving and bouncing around."
   ]
  },
  {
   "cell_type": "markdown",
   "metadata": {
    "slideshow": {
     "slide_type": "subslide"
    }
   },
   "source": [
    "### setup the Constant Variables"
   ]
  },
  {
   "cell_type": "markdown",
   "metadata": {
    "slideshow": {
     "slide_type": "-"
    }
   },
   "source": [
    "```\n",
    "import pygame, sys, time\n",
    "from pygame.locals import *\n",
    "\n",
    "# Set up pygame.\n",
    "pygame.init()\n",
    "\n",
    "# Set up the window.\n",
    "WWIDTH  = 400 ; WHEIGHT = 400\n",
    "windowSurface = pygame.display.set_mode((WWIDTH,\n",
    "                                       WHEIGHT))\n",
    "pygame.display.set_caption('Animation')\n",
    "```"
   ]
  },
  {
   "cell_type": "markdown",
   "metadata": {
    "slideshow": {
     "slide_type": "subslide"
    }
   },
   "source": [
    "In this program, the window’s size is used for more than just the `set_mode()` call.\n",
    "\n",
    "If you ever want to change this size, just change these constant variables."
   ]
  },
  {
   "cell_type": "markdown",
   "metadata": {
    "slideshow": {
     "slide_type": "subslide"
    }
   },
   "source": [
    "We’ll use constant variables for the four directions the boxes can move in:\n",
    "```\n",
    "DOWNLEFT  = 'downleft'\n",
    "DOWNRIGHT = 'downright'\n",
    "UPLEFT    = 'upleft'\n",
    "UPRIGHT   = 'upright'\n",
    "```"
   ]
  },
  {
   "cell_type": "markdown",
   "metadata": {
    "slideshow": {
     "slide_type": "subslide"
    }
   },
   "source": [
    "We also create a constant variable to determine how fast the boxes should move:\n",
    "```\n",
    "MOVESPEED = 4\n",
    "```\n",
    "... tells the program how many pixels each box should move, on each iteration, through the game loop."
   ]
  },
  {
   "cell_type": "markdown",
   "metadata": {
    "slideshow": {
     "slide_type": "fragment"
    }
   },
   "source": [
    "<p style=\"text-align: center;\">Constant variables are used for <strong>readability</strong>.</p>"
   ]
  },
  {
   "cell_type": "markdown",
   "metadata": {
    "slideshow": {
     "slide_type": "subslide"
    }
   },
   "source": [
    "### setup the Box Data Structures"
   ]
  },
  {
   "cell_type": "markdown",
   "metadata": {
    "slideshow": {
     "slide_type": "-"
    }
   },
   "source": [
    "Next we’ll define the boxes. \n",
    "\n",
    "To *keep things simple*, a **dictionary** as a **data structure** is used to represent each moving box.\n",
    "\n",
    "The dictionary will have the **keys**:\n",
    "- `rect` with a Rect object for a **value**\n",
    "- `color` with a tuple of three integers for a **value**\n",
    "- `dir` with one of the direction constant variables for a **value**. "
   ]
  },
  {
   "cell_type": "markdown",
   "metadata": {
    "slideshow": {
     "slide_type": "subslide"
    }
   },
   "source": [
    "The animation code can be used to animate as many boxes as defined within the **data structure**.\n",
    "\n",
    "The variable `b1` stores one of these box data structures:"
   ]
  },
  {
   "cell_type": "markdown",
   "metadata": {
    "slideshow": {
     "slide_type": "-"
    }
   },
   "source": [
    "```\n",
    "b1 = {'rect':pygame.Rect(300, 80, 50, 100),\n",
    "      'color':RED, 'dir':UPRIGHT}\n",
    "```"
   ]
  },
  {
   "cell_type": "markdown",
   "metadata": {
    "slideshow": {
     "slide_type": "fragment"
    }
   },
   "source": [
    "This box’s top-left corner is located at `(300, 80)`. It has a width of `50` pixels and a height of `100` pixels.\n",
    "\n",
    "Its color is `RED`, and its initial direction is `UPRIGHT`."
   ]
  },
  {
   "cell_type": "markdown",
   "metadata": {
    "slideshow": {
     "slide_type": "subslide"
    }
   },
   "source": [
    "```\n",
    "b2 = {'rect':pygame.Rect(200, 200, 20, 20),\n",
    "      'color':GREEN, 'dir':UPLEFT}\n",
    "b3 = {'rect':pygame.Rect(100, 150, 60, 60),\n",
    "      'color':BLUE, 'dir':DOWNLEFT}\n",
    "boxes = [b1, b2, b3]\n",
    "```"
   ]
  },
  {
   "cell_type": "markdown",
   "metadata": {
    "slideshow": {
     "slide_type": "-"
    }
   },
   "source": [
    "... two more similar **data structures** for the other boxes, with different sizes, positions, colors, directions and a **list** to collect them all!\n",
    "\n",
    "If you needed to retrieve a box or value from the list, you could do so using **indexes** and **keys**."
   ]
  },
  {
   "cell_type": "markdown",
   "metadata": {
    "slideshow": {
     "slide_type": "subslide"
    }
   },
   "source": [
    "Entering `boxes[0]` would access the **dictionary** data structure in `b1`. \n",
    "\n",
    "Entering `boxes[0]['color']` would access the `color` **key** in `b1`. "
   ]
  },
  {
   "cell_type": "markdown",
   "metadata": {
    "slideshow": {
     "slide_type": "subslide"
    }
   },
   "source": [
    "Now the **game loop** handles animating the moving boxes. \n",
    "\n",
    "Animations work by drawing a series of pictures with slight differences that are shown one right after another. \n",
    "\n",
    "- Each box will move by 4 pixels in each picture. The pictures are shown so fast that the boxes will look like they are moving smoothly across the screen. \n",
    "- If a box hits the side of the window, then the game loop will make the box bounce by changing its direction."
   ]
  },
  {
   "cell_type": "markdown",
   "metadata": {
    "slideshow": {
     "slide_type": "fragment"
    }
   },
   "source": [
    "<p style=\"text-align: center;\">Now that we know a little bit about how the game loop will work, let’s code it!</p>"
   ]
  },
  {
   "cell_type": "markdown",
   "metadata": {
    "slideshow": {
     "slide_type": "subslide"
    }
   },
   "source": [
    "On each iteration through the game loop, the code **redraws** the entire window with new boxes, located a few pixels over, each time. \n",
    "\n",
    "To make sure that `windowSurface` is ready to be drawn on (not to end up with a trail of `Rect` **objects** instead of a *smooth animation*) let's clear the window, every iteration of the game loop.\n",
    "\n",
    "... fills the entire `Surface` with `WHITE` to erase anything else:\n",
    "```\n",
    "windowSurface.fill(WHITE)\n",
    "```"
   ]
  },
  {
   "cell_type": "markdown",
   "metadata": {
    "slideshow": {
     "slide_type": "subslide"
    }
   },
   "source": [
    "Once windowSurface is filled, we can start drawing all of our Rect objects.\n",
    "```\n",
    "windowSurface.fill(WHITE)\n",
    "```"
   ]
  },
  {
   "cell_type": "markdown",
   "metadata": {
    "slideshow": {
     "slide_type": "subslide"
    }
   },
   "source": [
    "### moving each Box"
   ]
  },
  {
   "cell_type": "markdown",
   "metadata": {
    "slideshow": {
     "slide_type": "-"
    }
   },
   "source": [
    "To move each box, we need to **iterate** over the boxes **list**:\n",
    "```\n",
    "for b in boxes:\n",
    "  if b['dir'] == DOWNLEFT:\n",
    "    b['rect'].left -= MOVESPEED\n",
    "    b['rect'].top += MOVESPEED\n",
    "  if b['dir'] == DOWNRIGHT:\n",
    "    b['rect'].left += MOVESPEED\n",
    "    b['rect'].top += MOVESPEED\n",
    "  if b['dir'] == UPLEFT:\n",
    "    b['rect'].left -= MOVESPEED\n",
    "    b['rect'].top -= MOVESPEED\n",
    "  if b['dir'] == UPRIGHT:\n",
    "    b['rect'].left += MOVESPEED\n",
    "    b['rect'].top -= MOVESPEED\n",
    "```\n",
    "and change each box position depending on the direction it is moving."
   ]
  },
  {
   "cell_type": "markdown",
   "metadata": {
    "slideshow": {
     "slide_type": "subslide"
    }
   },
   "source": [
    "The **if statements** are to figure out the box’s direction by checking the `dir` **key** inside the box data structure."
   ]
  },
  {
   "cell_type": "markdown",
   "metadata": {
    "slideshow": {
     "slide_type": "fragment"
    }
   },
   "source": [
    "New values for each box's attributes depends on the box’s direction.\n",
    "\n",
    "The value of these attributes will increase or decrease by the amount of the integer stored in MOVESPEED."
   ]
  },
  {
   "cell_type": "markdown",
   "metadata": {
    "slideshow": {
     "slide_type": "subslide"
    }
   },
   "source": [
    "### bouncing the Box"
   ]
  },
  {
   "cell_type": "markdown",
   "metadata": {
    "slideshow": {
     "slide_type": "-"
    }
   },
   "source": [
    "Once the boxes have been moved, we need to check whether the box has gone past the edge of the window.\n",
    "\n",
    "If it has, you want to bounce the box, i.e. set a new value for the box’s `dir` **key** to move the box on the next iteration of the game loop."
   ]
  },
  {
   "cell_type": "markdown",
   "metadata": {
    "slideshow": {
     "slide_type": "subslide"
    }
   },
   "source": [
    "In that case, the direction will be changed based on which direction the box was moving.\n",
    "```\n",
    "if b['rect'].top < 0:\n",
    "  # The box has moved past the top.\n",
    "  if b['dir'] == UPLEFT:\n",
    "    b['dir'] = DOWNLEFT\n",
    "  if b['dir'] == UPRIGHT:\n",
    "    b['dir'] = DOWNRIGHT\n",
    "```\n",
    "here we determine if the box has moved past the top edge of the window."
   ]
  },
  {
   "cell_type": "markdown",
   "metadata": {
    "slideshow": {
     "slide_type": "subslide"
    }
   },
   "source": [
    "the code her below, instead, handle the situation in which the box has moved past the bottom edge of the window.\n",
    "```\n",
    "if b['rect'].bottom > WINDOWHEIGHT:\n",
    "  # The box has moved past the bottom.\n",
    "  if b['dir'] == DOWNLEFT:\n",
    "    b['dir'] = UPLEFT\n",
    "  if b['dir'] == DOWNRIGHT:\n",
    "    b['dir'] = UPRIGHT\n",
    "```\n",
    "Remember that the `y-coordinates` start at `0` at the **top** of the window and increase to `WINDOWHEIGHT` at the **bottom**."
   ]
  },
  {
   "cell_type": "markdown",
   "metadata": {
    "slideshow": {
     "slide_type": "subslide"
    }
   },
   "source": [
    "This handles the behavior of the boxes when they bounce off the left side:\n",
    "```\n",
    "if b['rect'].left < 0:\n",
    "  # The box has moved past the left side.\n",
    "  if b['dir'] == DOWNLEFT:\n",
    "    b['dir'] = DOWNRIGHT\n",
    "  if b['dir'] == UPLEFT:\n",
    "    b['dir'] = UPRIGHT\n",
    "```"
   ]
  },
  {
   "cell_type": "markdown",
   "metadata": {
    "slideshow": {
     "slide_type": "subslide"
    }
   },
   "source": [
    "This handles the behavior of the boxes when they bounce off the right side:\n",
    "```\n",
    "if b['rect'].right > WINDOWWIDTH:\n",
    "  # The box has moved past the right side.\n",
    "  if b['dir'] == DOWNRIGHT:\n",
    "    b['dir'] = DOWNLEFT\n",
    "  if b['dir'] == UPRIGHT:\n",
    "    b['dir'] = UPLEFT\n",
    "```\n",
    "Remember that the `x-coordinates` start at `0` on the window’s **left** edge and increase to `WINDOWWIDTH` on the **right** one."
   ]
  },
  {
   "cell_type": "markdown",
   "metadata": {
    "slideshow": {
     "slide_type": "subslide"
    }
   },
   "source": [
    "Every time the boxes move, let's draw them in their new positions on `windowSurface` by calling:\n",
    "```\n",
    "pygame.draw.rect(windowSurface, b['color'], b['rect'])\n",
    "\n",
    "```\n",
    "passing the `windowSurface`, being the Surface object to draw the rectangle on, as well as the color and the `Rect` **object** with the new position and size of the rectangle to draw."
   ]
  },
  {
   "cell_type": "markdown",
   "metadata": {
    "slideshow": {
     "slide_type": "subslide"
    }
   },
   "source": [
    "After the **for loop**, each box in the boxes list will be drawn on the screen:\n",
    "```\n",
    "pygame.display.update()\n",
    "time.sleep(0.02)\n",
    "```\n",
    "If the program ran at full speed, all the boxes would look like a blur. To make the program run slowly enough that we can see the boxes, let's add a `time.sleep(0.02)` to pause the program for 20 milliseconds, between each movement of the boxes."
   ]
  },
  {
   "cell_type": "markdown",
   "metadata": {
    "slideshow": {
     "slide_type": "subslide"
    }
   },
   "source": [
    "After that, the execution returns to the start of the **game loop** and begins the process all over again. \n",
    "\n",
    "This way, the boxes are constantly moving a little, bouncing off the walls, and being drawn on the screen in their new positions."
   ]
  },
  {
   "cell_type": "markdown",
   "metadata": {
    "slideshow": {
     "slide_type": "slide"
    }
   },
   "source": [
    "### Drafting a Software Development Plan (SDP)"
   ]
  },
  {
   "cell_type": "markdown",
   "metadata": {
    "slideshow": {
     "slide_type": "-"
    }
   },
   "source": [
    "Since we are putting on the table so many **ingredients**, let's start thinking about a **recipe** to develop our own videogame, using `Python3` and `pygame` module, more in particular."
   ]
  },
  {
   "cell_type": "markdown",
   "metadata": {
    "slideshow": {
     "slide_type": "-"
    }
   },
   "source": [
    "Let's walk through the skeleton of the **SDP** for a videogame (`snake`) we have, so far, already worked a lot on!"
   ]
  },
  {
   "cell_type": "markdown",
   "metadata": {
    "slideshow": {
     "slide_type": "subslide"
    }
   },
   "source": [
    "#### Introduction:\n",
    "\n",
    "- Brief description of the Snake game and its functioning.\n",
    "- Explanation of why this game was selected for the project.\n",
    "- Overview of the development process, the tools and **technologies** that will be used."
   ]
  },
  {
   "cell_type": "markdown",
   "metadata": {
    "slideshow": {
     "slide_type": "subslide"
    }
   },
   "source": [
    "#### Requirements:\n",
    "\n",
    "- Detailed description of the game's **functionalities** and **features**.\n",
    "- Explanation of the game's user **interface** (GUI) and **controls** (commands).\n",
    "- List of the hardware/software requirements for the game."
   ]
  },
  {
   "cell_type": "markdown",
   "metadata": {
    "slideshow": {
     "slide_type": "subslide"
    }
   },
   "source": [
    "#### Design:\n",
    "\n",
    "- High-level diagram (aka **flowcharts**) of the game's architecture.\n",
    "- Detailed description of the game's **components**, including the **game loop**, **sprite classes**, and **input handling**.\n",
    "- Explanation of the **data structures** that will be used to represent the **game state**, such as the snake's position/direction and the food ones.\n",
    "- Discussion of the **algorithms** that will be used depending on the **game logic**, e.g. collision detection."
   ]
  },
  {
   "cell_type": "markdown",
   "metadata": {
    "slideshow": {
     "slide_type": "subslide"
    }
   },
   "source": [
    "#### Implementation:\n",
    "\n",
    "- Plan for the **development** of each component of the game.\n",
    "- Explanation of how the different components will **interact** with each other.\n",
    "- Discussion of the **coding conventions** and **standards** that will be followed.\n",
    "- List of the **testing procedures** that will be used to validate the game (aka **unit tests**)."
   ]
  },
  {
   "cell_type": "markdown",
   "metadata": {
    "slideshow": {
     "slide_type": "subslide"
    }
   },
   "source": [
    "#### Deployment:\n",
    "\n",
    "- Explanation of the **steps required** to deploy the game, including creating an executable, packaging the game, and installing it on the target system. \n",
    "- Discussion of the **issues** that may arise during deployment, such as **compatibility** with different operating systems.\n",
    "- Explanation of the steps that will be taken to resolve any deployment issues, e.g. running the game on a **Docker container**, including building a Docker image, using **3rd-party** software such as `pygbag` module."
   ]
  },
  {
   "cell_type": "markdown",
   "metadata": {
    "slideshow": {
     "slide_type": "subslide"
    }
   },
   "source": [
    "#### Maintenance:\n",
    "\n",
    "- Explanation of the **procedures** that will be used to maintain the game over time, including **fixing bugs**, updating the game to support new hardware and software, and adding **new features**.\n",
    "- Discussion of the **steps** that will be taken to ensure that the game continues to run smoothly and that any issues are resolved in a timely manner, e.g. setting up a GitLab pipeline and/or GitHub actions, to repackage the whole game each pull request (aka **PR**) and automating unit-tests."
   ]
  },
  {
   "cell_type": "markdown",
   "metadata": {
    "slideshow": {
     "slide_type": "subslide"
    }
   },
   "source": [
    "#### Conclusion:\n",
    "\n",
    "- Summary of the main points covered in the SDP.\n",
    "- Discussion of the benefits of having a well-defined SDP for the development of this game.\n",
    "- Final thoughts and recommendations for future work."
   ]
  },
  {
   "cell_type": "markdown",
   "metadata": {
    "slideshow": {
     "slide_type": "subslide"
    }
   },
   "source": [
    "<p style=\"text-align: center;\">The goal is to provide a **clear and comprehensive plan** for the development of the game, to help ensure that the project is completed <strong>on time and within budget</strong>.</p>"
   ]
  },
  {
   "cell_type": "markdown",
   "metadata": {
    "slideshow": {
     "slide_type": "subslide"
    }
   },
   "source": [
    "Organize your work (divide it into **atomic tasks**) might help.\n",
    "\n",
    "<img src=\"img/kanban.png\" style=\"margin:auto\" width=\"1000\">\n",
    "\n",
    "... **Kanban boards** (e.g. on GitHub) and **Gantt charts** help even more !"
   ]
  },
  {
   "cell_type": "markdown",
   "metadata": {
    "slideshow": {
     "slide_type": "slide"
    }
   },
   "source": [
    "### ... more on `pygame` playground: Collision Detection"
   ]
  },
  {
   "cell_type": "markdown",
   "metadata": {
    "slideshow": {
     "slide_type": "-"
    }
   },
   "source": [
    "Figuring out when **two things** on the screen have **touched** (aka collided with) each other, is really useful for games. \n",
    "\n",
    "- If the player touches an enemy, they may lose health. \n",
    "- If the player touches a coin, they should automatically pick it up. \n",
    "- If the game character is standing on solid ground or there’s nothing but empty air beneath them."
   ]
  },
  {
   "cell_type": "markdown",
   "metadata": {
    "slideshow": {
     "slide_type": "fragment"
    }
   },
   "source": [
    "<p style=\"text-align: center;\">Collision detection will determine whether two <strong>rectangles</strong> are <strong>overlapping</strong> each other.</p>"
   ]
  },
  {
   "cell_type": "markdown",
   "metadata": {
    "slideshow": {
     "slide_type": "subslide"
    }
   },
   "source": [
    "Moreover, `pygame` programs can accept input from the player through the **keyboard** and the **mouse**. It’s a bit more complicated than calling the input() function. \n",
    "\n",
    "- using the keyboard is much more interactive in GUI programs\n",
    "- using the mouse isn’t even possible in CLI ones! "
   ]
  },
  {
   "cell_type": "markdown",
   "metadata": {
    "slideshow": {
     "slide_type": "fragment"
    }
   },
   "source": [
    "<p style=\"text-align: center;\">This will make our games more exciting!</p>"
   ]
  },
  {
   "cell_type": "markdown",
   "metadata": {
    "slideshow": {
     "slide_type": "subslide"
    }
   },
   "source": [
    "In the upcoming example a black box “eats” smaller green squares (food), randomly appearing on the screen, as it touches them.\n",
    "The player can:\n",
    "\n",
    "- press the `arrow` keys to move the black box\n",
    "- click anywhere in the window to create new food squares\n",
    "- press `ESC` key to quit the program\n",
    "- press the `X` key to teleport the player to a random place"
   ]
  },
  {
   "cell_type": "markdown",
   "metadata": {
    "slideshow": {
     "slide_type": "slide"
    }
   },
   "source": [
    "### import modules and initializing `pygame`"
   ]
  },
  {
   "cell_type": "markdown",
   "metadata": {
    "slideshow": {
     "slide_type": "subslide"
    }
   },
   "source": [
    "After importing the usual modules (plus the random module):\n",
    "```\n",
    "import pygame, sys, random\n",
    "from pygame.locals import *\n",
    "```"
   ]
  },
  {
   "cell_type": "markdown",
   "metadata": {
    "slideshow": {
     "slide_type": "fragment"
    }
   },
   "source": [
    "... and after initializing `pygame`, setting `WINDOWHEIGHT` and `WINDOWWIDTH` and assigning colors and direction constants, we will make use of a **clock** to pace the program:\n",
    "```\n",
    "mainClock = pygame.time.Clock()\n",
    "```"
   ]
  },
  {
   "cell_type": "markdown",
   "metadata": {
    "slideshow": {
     "slide_type": "fragment"
    }
   },
   "source": [
    "As we did in the previous example, calling\n",
    "```\n",
    "time.sleep(0.02)\n",
    "```\n",
    "to slow down the program, will always pause for `0.02` seconds on all computers, but then the speed of all the rest of the program depends on how fast the computer is."
   ]
  },
  {
   "cell_type": "markdown",
   "metadata": {
    "slideshow": {
     "slide_type": "fragment"
    }
   },
   "source": [
    "If we want this program to run at the same speed on any computer, we need a function that pauses longer on fast computers and shorter on slow computers.\n",
    "\n",
    "A `pygame.time.Clock` **object** can pause an appropriate amount of time on any computer, calling `tick()` method inside the game loop\n",
    "```\n",
    "mainClock.tick(40)\n",
    "```"
   ]
  },
  {
   "cell_type": "markdown",
   "metadata": {
    "slideshow": {
     "slide_type": "fragment"
    }
   },
   "source": [
    "This waits enough time so that it runs at about 40 iterations a second, no matter what the computer’s speed is. This ensures that the game never runs faster than you expect. This call should appear only once in the game loop.\n"
   ]
  },
  {
   "cell_type": "markdown",
   "metadata": {
    "slideshow": {
     "slide_type": "slide"
    }
   },
   "source": [
    "### Window and Data Structs"
   ]
  },
  {
   "cell_type": "markdown",
   "metadata": {
    "slideshow": {
     "slide_type": "-"
    }
   },
   "source": [
    "Setup a few variables for the food squares that appear on the screen:\n",
    "```\n",
    "foodCounter = 0\n",
    "NEWFOOD = 40\n",
    "FOODSIZE = 20\n",
    "```\n",
    "... we will see how these are used later when we create the food."
   ]
  },
  {
   "cell_type": "markdown",
   "metadata": {
    "slideshow": {
     "slide_type": "subslide"
    }
   },
   "source": [
    "Setup a `pygame.Rect` **object** for the player’s location:\n",
    "```\n",
    "player = pygame.Rect(300, 100, 50, 50)\n",
    "```\n",
    "calling the constructor, wiht the box’s size and position.\n",
    "\n",
    "In this program, the player can control where the box moves."
   ]
  },
  {
   "cell_type": "markdown",
   "metadata": {
    "slideshow": {
     "slide_type": "subslide"
    }
   },
   "source": [
    "To keep track of the food squares (randomly placed) the program uses `foods`, a **list** of `Rect` **objects**:\n",
    "```\n",
    "foods = []\n",
    "for i in range(20):\n",
    "    foods.append(pygame.Rect(random.randint(0, WINDOWWIDTH - FOODSIZE),\n",
    "    random.randint(0, WINDOWHEIGHT - FOODSIZE), FOODSIZE, FOODSIZE))\n",
    "```\n",
    "and the `random.randint()` function provides for random x/y coordinates."
   ]
  },
  {
   "cell_type": "markdown",
   "metadata": {
    "slideshow": {
     "slide_type": "subslide"
    }
   },
   "source": [
    "Again, the program calls the `pygame.Rect()` constructor function to return a new food **object**. \n",
    "\n",
    "You want the random coordinate to be between 0 and the size of the window *minus* the size of the food square, not to have the food square to be pushed outside of the window altogether."
   ]
  },
  {
   "cell_type": "markdown",
   "metadata": {
    "slideshow": {
     "slide_type": "slide"
    }
   },
   "source": [
    "### Variables to Track Movement"
   ]
  },
  {
   "cell_type": "markdown",
   "metadata": {
    "slideshow": {
     "slide_type": "-"
    }
   },
   "source": [
    "The player’s box can move in four directions (initially set to `False`):\n",
    "```\n",
    "moveLeft = False\n",
    "moveRight = False\n",
    "moveUp = False\n",
    "moveDown = False\n",
    "```\n",
    "that have Boolean values to keep track of which arrow key is being pressed. "
   ]
  },
  {
   "cell_type": "markdown",
   "metadata": {
    "slideshow": {
     "slide_type": "-"
    }
   },
   "source": [
    "```\n",
    " MOVESPEED = 6\n",
    "```\n",
    "Finally, the speed at which the player moves has to be defined as well."
   ]
  },
  {
   "cell_type": "markdown",
   "metadata": {
    "slideshow": {
     "slide_type": "subslide"
    }
   },
   "source": [
    "Then, as usual we will start the game loop to handle when the player quits the program\n",
    "```\n",
    " while True:\n",
    "     for event in pygame.event.get():\n",
    "         if event.type == QUIT:\n",
    "             pygame.quit()\n",
    "             sys.exit()\n",
    "```"
   ]
  },
  {
   "cell_type": "markdown",
   "metadata": {
    "slideshow": {
     "slide_type": "subslide"
    }
   },
   "source": [
    "```\n",
    "         if event.type == KEYDOWN:\n",
    "```\n",
    "... as well as *keypress* and *key release* events!"
   ]
  },
  {
   "cell_type": "markdown",
   "metadata": {
    "slideshow": {
     "slide_type": "slide"
    }
   },
   "source": [
    "### handling the `KEYDOWN` event"
   ]
  },
  {
   "cell_type": "markdown",
   "metadata": {
    "slideshow": {
     "slide_type": "-"
    }
   },
   "source": [
    "If the event type is `KEYDOWN`, then the `Event` **object** has a `key` **attribute** that indicates which key was pressed. \n",
    "\n",
    "When the player presses an `arrow` key or a `WASD` key (aka **wazz-dee**), we want the box to move.\n",
    "\n",
    "We will use *if statements* to check the pressed key in order to tell which direction the box should move."
   ]
  },
  {
   "cell_type": "markdown",
   "metadata": {
    "slideshow": {
     "slide_type": "subslide"
    }
   },
   "source": [
    "These lines compare the `key` **attribute** to the `pygame.locals` constants\n",
    "```\n",
    "if event.key == K_LEFT or event.key == K_a:\n",
    "    moveRight = False ; moveLeft = True\n",
    "if event.key == K_RIGHT or event.key == K_d:\n",
    "    moveLeft = False ; moveRight = True\n",
    "if event.key == K_UP or event.key == K_w:\n",
    "    moveDown = False ; moveUp = True\n",
    "if event.key == K_DOWN or event.key == K_s:\n",
    "    moveUp = False ; moveDown = True\n",
    "```"
   ]
  },
  {
   "cell_type": "markdown",
   "metadata": {
    "slideshow": {
     "slide_type": "subslide"
    }
   },
   "source": [
    "The `W`, `A`, `S`, and `D` keys are used as alternates for changing the movement variables, letting the player use their left hand instead of their right, improving **usability**."
   ]
  },
  {
   "cell_type": "markdown",
   "metadata": {
    "slideshow": {
     "slide_type": "-"
    }
   },
   "source": [
    "<img src=\"img/keyboard.png\" style=\"margin:auto\" width=\"450\">"
   ]
  },
  {
   "cell_type": "markdown",
   "metadata": {
    "slideshow": {
     "slide_type": "slide"
    }
   },
   "source": [
    "### handling the `KEYUP` event"
   ]
  },
  {
   "cell_type": "markdown",
   "metadata": {
    "slideshow": {
     "slide_type": "-"
    }
   },
   "source": [
    "When the player releases the key they were pressing\n",
    "```\n",
    "         if event.type == KEYUP\n",
    "```\n",
    "a `KEYUP` event is generated instead."
   ]
  },
  {
   "cell_type": "markdown",
   "metadata": {
    "slideshow": {
     "slide_type": "subslide"
    }
   },
   "source": [
    "If the released key was `ESC`, then `Python` should terminate the program.\n",
    "```\n",
    "         if event.key == K_ESCAPE:\n",
    "            pygame.quit()\n",
    "            sys.exit()\n",
    "```\n",
    "remember to call the `pygame.quit()` function before `sys.exit()`."
   ]
  },
  {
   "cell_type": "markdown",
   "metadata": {
    "slideshow": {
     "slide_type": "subslide"
    }
   },
   "source": [
    "... and set a movement variable to `False` when a direction’s key is released:\n",
    "```\n",
    "        if event.key == K_LEFT or event.key == K_a:\n",
    "            moveLeft = False\n",
    "        if event.key == K_RIGHT or event.key == K_d:\n",
    "            moveRight = False\n",
    "        if event.key == K_UP or event.key == K_w:\n",
    "            moveUp = False\n",
    "        if event.key == K_DOWN or event.key == K_s:\n",
    "            moveDown = False\n",
    "```\n",
    "This will make the box stop moving, as we will see."
   ]
  },
  {
   "cell_type": "markdown",
   "metadata": {
    "slideshow": {
     "slide_type": "slide"
    }
   },
   "source": [
    "### Teleporting the Player"
   ]
  },
  {
   "cell_type": "markdown",
   "metadata": {
    "slideshow": {
     "slide_type": "-"
    }
   },
   "source": [
    "You can also add **teleportation** to the game!\n",
    "```\n",
    "if event.key == K_x:\n",
    "    player.top = random.randint(0, WINDOWHEIGHT -\n",
    "                                    player.height)\n",
    "    player.left = random.randint(0, WINDOWWIDTH -\n",
    "                                    player.width)\n",
    "```\n",
    "If the player presses the `X` key, set the position of the player’s box to a random place on the window, but not outside of it."
   ]
  },
  {
   "cell_type": "markdown",
   "metadata": {
    "slideshow": {
     "slide_type": "slide"
    }
   },
   "source": [
    "### Adding New Food Squares"
   ]
  },
  {
   "cell_type": "markdown",
   "metadata": {
    "slideshow": {
     "slide_type": "-"
    }
   },
   "source": [
    "There are couple ways the player can add new food squares to the screen:\n",
    "- click a spot in the window where to make the new food square appear\n",
    "- wait until the game loop has iterated `NEWFOOD` number of times, to randomly generate it"
   ]
  },
  {
   "cell_type": "markdown",
   "metadata": {
    "slideshow": {
     "slide_type": "fragment"
    }
   },
   "source": [
    "<p style=\"text-align: center;\"> <strong>mouse</strong> input is handled by events just like  <strong>keyboard</strong> input</p>"
   ]
  },
  {
   "cell_type": "markdown",
   "metadata": {
    "slideshow": {
     "slide_type": "-"
    }
   },
   "source": [
    "```\n",
    "if event.type == MOUSEBUTTONUP:\n",
    "    foods.append(pygame.Rect(event.pos[0], event.pos[1],\n",
    "                                    FOODSIZE, FOODSIZE))\n",
    "```\n",
    "When the player releases the mouse button (after clicking it), a `MOUSEBUTTONUP` event occurs and the x/y coordinates are stored in `event.pos[0]` and `event.pos[1]`. \n",
    "\n",
    "Then, a `Rect` **object** representing a new food square is added (aka **appended**) to the foods list."
   ]
  },
  {
   "cell_type": "markdown",
   "metadata": {
    "slideshow": {
     "slide_type": "-"
    }
   },
   "source": [
    "```\n",
    "foodCounter += 1\n",
    "if foodCounter >= NEWFOOD:\n",
    "    foodCounter = 0\n",
    "    foods.append(pygame.Rect(random.randint(0, WINDOWWIDTH -\n",
    "        FOODSIZE), random.randint(0, WINDOWHEIGHT - FOODSIZE),\n",
    "        FOODSIZE, FOODSIZE))\n",
    "```\n",
    "Food squares are even automatically generated. Each game loop iteration, `foodCounter` is incremented by 1. Once equal to the constant `NEWFOOD`, foodCounter is reset and a new food square is generated. To change this rate, simply adjusts `NEWFOOD`."
   ]
  },
  {
   "cell_type": "markdown",
   "metadata": {
    "slideshow": {
     "slide_type": "slide"
    }
   },
   "source": [
    "### Moving the Player Around the Window"
   ]
  },
  {
   "cell_type": "markdown",
   "metadata": {
    "slideshow": {
     "slide_type": "-"
    }
   },
   "source": [
    "Once the movement variables are set (to `True` or `False`), depending on the keys, we need to move the player’s box by adjusting the `player` x/y coordinates."
   ]
  },
  {
   "cell_type": "markdown",
   "metadata": {
    "slideshow": {
     "slide_type": "subslide"
    }
   },
   "source": [
    "```\n",
    "if moveDown and player.bottom < WINDOWHEIGHT:\n",
    "    player.top += MOVESPEED\n",
    "if moveUp and player.top > 0:\n",
    "    player.top -= MOVESPEED\n",
    "if moveLeft and player.left > 0:\n",
    "    player.left -= MOVESPEED\n",
    "if moveRight and player.right < WINDOWWIDTH:\n",
    "    player.right += MOVESPEED\n",
    "```"
   ]
  },
  {
   "cell_type": "markdown",
   "metadata": {
    "slideshow": {
     "slide_type": "slide"
    }
   },
   "source": [
    "### Drawing the Player on the Window"
   ]
  },
  {
   "cell_type": "markdown",
   "metadata": {
    "slideshow": {
     "slide_type": "-"
    }
   },
   "source": [
    "```\n",
    "pygame.draw.rect(windowSurface, BLACK, player)\n",
    "```\n",
    "After the box is moved, draws it in its new position passing the `windowSurface` parameter to tell `Python` which `Surface` **object** to draw the rectangle on and the `player` parameter to tell `Python` the position and size of the `Rect` **object** to draw."
   ]
  },
  {
   "cell_type": "markdown",
   "metadata": {
    "slideshow": {
     "slide_type": "slide"
    }
   },
   "source": [
    "### Checking for Collisions"
   ]
  },
  {
   "cell_type": "markdown",
   "metadata": {
    "slideshow": {
     "slide_type": "slide"
    }
   },
   "source": [
    "Before drawing the food squares, check if the player’s box has overlapped with any of the food squares, using collision detection method that every `Rect` objects has.\n",
    "\n",
    "In that case, the square needs to be removed from the foods list and `Python` won’t draw any food squares that the box has already eaten."
   ]
  }
 ],
 "metadata": {
  "celltoolbar": "Slideshow",
  "kernelspec": {
   "display_name": "Python 3",
   "language": "python",
   "name": "python3"
  },
  "language_info": {
   "codemirror_mode": {
    "name": "ipython",
    "version": 3
   },
   "file_extension": ".py",
   "mimetype": "text/x-python",
   "name": "python",
   "nbconvert_exporter": "python",
   "pygments_lexer": "ipython3",
   "version": "3.4.5"
  }
 },
 "nbformat": 4,
 "nbformat_minor": 2
}
